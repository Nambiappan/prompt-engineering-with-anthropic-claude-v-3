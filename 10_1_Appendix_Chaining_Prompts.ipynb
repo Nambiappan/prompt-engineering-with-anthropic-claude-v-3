{
 "cells": [
  {
   "cell_type": "markdown",
   "metadata": {},
   "source": [
    "# Appendix 10.1: Chaining Prompts\n",
    "\n",
    "- [Lesson](#lesson)\n",
    "- [Example Playground](#example-playground)\n",
    "\n",
    "## Setup\n",
    "\n",
    "Run the following setup cell to load your API key and establish the `get_completion` helper function."
   ]
  },
  {
   "cell_type": "code",
   "execution_count": 1,
   "metadata": {},
   "outputs": [],
   "source": [
    "# Import python's built-in regular expression library\n",
    "import re\n",
    "import boto3\n",
    "from botocore.exceptions import ClientError\n",
    "import json\n",
    "\n",
    "# Import the hints module from the utils package\n",
    "from utils import hints\n",
    "\n",
    "# Retrieve the MODEL_NAME variable from the IPython store\n",
    "%store -r modelId\n",
    "%store -r region\n",
    "\n",
    "bedrock_client = boto3.client(service_name='bedrock-runtime', region_name=region)"
   ]
  },
  {
   "cell_type": "code",
   "execution_count": 2,
   "metadata": {},
   "outputs": [],
   "source": [
    "def get_completion(messages, system_prompt=None):\n",
    "    inference_config = {\n",
    "        \"temperature\": 0.5\n",
    "    }\n",
    "    additional_model_fields = {\n",
    "        \"top_p\": 1,\n",
    "        \"max_tokens\": 200\n",
    "    }\n",
    "    converse_api_params = {\n",
    "        \"modelId\": modelId,\n",
    "        \"messages\": messages,\n",
    "        \"inferenceConfig\": inference_config,\n",
    "        \"additionalModelRequestFields\": additional_model_fields\n",
    "    }\n",
    "    if system_prompt:\n",
    "        converse_api_params[\"system\"] = [{\"text\": system_prompt}]\n",
    "    try:\n",
    "        response = bedrock_client.converse(**converse_api_params)\n",
    "        text_content = response['output']['message']['content'][0]['text']\n",
    "        return text_content\n",
    "\n",
    "    except ClientError as err:\n",
    "        message = err.response['Error']['Message']\n",
    "        print(f\"A client error occured: {message}\")"
   ]
  },
  {
   "cell_type": "markdown",
   "metadata": {},
   "source": [
    "---\n",
    "\n",
    "## Lesson\n",
    "\n",
    "The saying goes, \"Writing is rewriting.\" It turns out, **Claude can often improve the accuracy of its response when asked to do so**!\n",
    "\n",
    "There are many ways to prompt Claude to \"think again\". The ways that feel natural to ask a human to double check their work will also generally work for Claude. (Check out our [prompt chaining documentation](https://docs.anthropic.com/claude/docs/chain-prompts) for further examples of when and how to use prompt chaining.)"
   ]
  },
  {
   "cell_type": "markdown",
   "metadata": {},
   "source": [
    "### Examples\n",
    "\n",
    "In this example, we ask Claude to come up with ten words... but one or more of them isn't a real word."
   ]
  },
  {
   "cell_type": "code",
   "execution_count": 3,
   "metadata": {},
   "outputs": [
    {
     "name": "stdout",
     "output_type": "stream",
     "text": [
      "Here are 10 words that all end with the letters 'ab':\n",
      "\n",
      "1. Cab\n",
      "2. Dab\n",
      "3. Fab\n",
      "4. Gab\n",
      "5. Jab\n",
      "6. Lab\n",
      "7. Nab\n",
      "8. Slab\n",
      "9. Tab\n",
      "10. Zab\n"
     ]
    }
   ],
   "source": [
    "# Initial prompt\n",
    "first_user = \"Name ten words that all end with the exact letters 'ab'.\"\n",
    "\n",
    "# API messages array\n",
    "messages = [\n",
    "    {\"role\": \"user\",\n",
    "     \"content\": [{\"text\": first_user}]}\n",
    "]\n",
    "\n",
    "# Store and print Claude's response\n",
    "first_response = get_completion(messages)\n",
    "print(first_response)"
   ]
  },
  {
   "cell_type": "markdown",
   "metadata": {},
   "source": [
    "**Asking Claude to make its answer more accurate** fixes the error! \n",
    "\n",
    "Below, we've pulled down Claude's incorrect response from above and added another turn to the conversation asking Claude to fix its previous answer."
   ]
  },
  {
   "cell_type": "code",
   "execution_count": 4,
   "metadata": {},
   "outputs": [
    {
     "name": "stdout",
     "output_type": "stream",
     "text": [
      "------------------------ Full messsages array with variable substutions ------------------------\n",
      "[{'role': 'user', 'content': [{'text': \"Name ten words that all end with the exact letters 'ab'.\"}]}, {'role': 'assistant', 'content': [{'text': \"Here are 10 words that all end with the letters 'ab':\\n\\n1. Cab\\n2. Dab\\n3. Fab\\n4. Gab\\n5. Jab\\n6. Lab\\n7. Nab\\n8. Slab\\n9. Tab\\n10. Zab\"}]}, {'role': 'user', 'content': [{'text': \"Please find replacements for all 'words' that are not real words.\"}]}]\n",
      "\n",
      "------------------------------------- Claude's response -------------------------------------\n",
      "Here are 10 real words that all end with the letters 'ab':\n",
      "\n",
      "1. Cab\n",
      "2. Dab\n",
      "3. Grab\n",
      "4. Gab\n",
      "5. Jab\n",
      "6. Lab\n",
      "7. Nab\n",
      "8. Slab\n",
      "9. Tab\n",
      "10. Crab\n"
     ]
    }
   ],
   "source": [
    "second_user = \"Please find replacements for all 'words' that are not real words.\"\n",
    "\n",
    "# API messages array\n",
    "messages = [\n",
    "    {\n",
    "        \"role\": \"user\",\n",
    "        \"content\": [{\"text\": first_user}]\n",
    "    },\n",
    "    {\n",
    "        \"role\": \"assistant\",\n",
    "         \"content\": [{\"text\": first_response}]\n",
    "    },\n",
    "    {\n",
    "        \"role\": \"user\",\n",
    "         \"content\": [{\"text\": second_user}]\n",
    "    },\n",
    "\n",
    "]\n",
    "\n",
    "# Print Claude's response\n",
    "print(\"------------------------ Full messsages array with variable substutions ------------------------\")\n",
    "print(messages)\n",
    "print(\"\\n------------------------------------- Claude's response -------------------------------------\")\n",
    "print(get_completion(messages))"
   ]
  },
  {
   "cell_type": "markdown",
   "metadata": {},
   "source": [
    "But is Claude revising its answer just because we told it to? What if we start off with a correct answer already? Will Claude lose its confidence? Here, we've placed a correct response in the place of `first_response` and asked it to double check again."
   ]
  },
  {
   "cell_type": "code",
   "execution_count": 5,
   "metadata": {},
   "outputs": [
    {
     "name": "stdout",
     "output_type": "stream",
     "text": [
      "------------------------ Full messsages array with variable substutions ------------------------\n",
      "[{'role': 'user', 'content': [{'text': \"Name ten words that all end with the exact letters 'ab'.\"}]}, {'role': 'assistant', 'content': [{'text': \"Here are 10 words that end with the letters 'ab':\\n\\n1. Cab\\n2. Dab\\n3. Grab\\n4. Gab\\n5. Jab\\n6. Lab\\n7. Nab\\n8. Slab\\n9. Tab\\n10. Blab\"}]}, {'role': 'user', 'content': [{'text': \"Please find replacements for all 'words' that are not real words.\"}]}]\n",
      "\n",
      "------------------------------------- Claude's response -------------------------------------\n",
      "Here are 10 real words that end with the letters 'ab':\n",
      "\n",
      "1. Cab\n",
      "2. Dab\n",
      "3. Grab\n",
      "4. Gab\n",
      "5. Jab\n",
      "6. Lab\n",
      "7. Nab\n",
      "8. Slab\n",
      "9. Tab\n",
      "10. Blab\n"
     ]
    }
   ],
   "source": [
    "first_user = \"Name ten words that all end with the exact letters 'ab'.\"\n",
    "\n",
    "first_response = \"\"\"Here are 10 words that end with the letters 'ab':\n",
    "\n",
    "1. Cab\n",
    "2. Dab\n",
    "3. Grab\n",
    "4. Gab\n",
    "5. Jab\n",
    "6. Lab\n",
    "7. Nab\n",
    "8. Slab\n",
    "9. Tab\n",
    "10. Blab\"\"\"\n",
    "\n",
    "second_user = \"Please find replacements for all 'words' that are not real words.\"\n",
    "\n",
    "# API messages array\n",
    "messages = [\n",
    "    {\n",
    "        \"role\": \"user\",\n",
    "        \"content\": [{\"text\": first_user}]\n",
    "    },\n",
    "    {\n",
    "        \"role\": \"assistant\",\n",
    "         \"content\": [{\"text\": first_response}]\n",
    "    },\n",
    "    {\n",
    "        \"role\": \"user\",\n",
    "         \"content\": [{\"text\": second_user}]\n",
    "    },\n",
    "\n",
    "]\n",
    "\n",
    "# Print Claude's response\n",
    "print(\"------------------------ Full messsages array with variable substutions ------------------------\")\n",
    "print(messages)\n",
    "print(\"\\n------------------------------------- Claude's response -------------------------------------\")\n",
    "print(get_completion(messages))"
   ]
  },
  {
   "cell_type": "markdown",
   "metadata": {},
   "source": [
    "You may notice that if you generate a respnse from the above block a few times, Claude leaves the words as is most of the time, but still occasionally changes the words even though they're all already correct. What can we do to mitigate this? Per Chapter 8, we can give Claude an out! Let's try this one more time."
   ]
  },
  {
   "cell_type": "code",
   "execution_count": 6,
   "metadata": {},
   "outputs": [
    {
     "name": "stdout",
     "output_type": "stream",
     "text": [
      "------------------------ Full messsages array with variable substutions ------------------------\n",
      "[{'role': 'user', 'content': [{'text': \"Name ten words that all end with the exact letters 'ab'.\"}]}, {'role': 'assistant', 'content': [{'text': \"Here are 10 words that end with the letters 'ab':\\n\\n1. Cab\\n2. Dab\\n3. Grab\\n4. Gab\\n5. Jab\\n6. Lab\\n7. Nab\\n8. Slab\\n9. Tab\\n10. Blab\"}]}, {'role': 'user', 'content': [{'text': \"Please find replacements for all 'words' that are not real words. If all the words are real words, return the original list.\"}]}]\n",
      "\n",
      "------------------------------------- Claude's response -------------------------------------\n",
      "Here is the list with replacements for any non-real words:\n",
      "\n",
      "1. Cab\n",
      "2. Dab\n",
      "3. Grab\n",
      "4. Gab\n",
      "5. Jab\n",
      "6. Lab\n",
      "7. Nab\n",
      "8. Slab\n",
      "9. Tab\n",
      "10. Blab\n",
      "\n",
      "All the words in the original list are real words, so no replacements were necessary.\n"
     ]
    }
   ],
   "source": [
    "first_user = \"Name ten words that all end with the exact letters 'ab'.\"\n",
    "\n",
    "first_response = \"\"\"Here are 10 words that end with the letters 'ab':\n",
    "\n",
    "1. Cab\n",
    "2. Dab\n",
    "3. Grab\n",
    "4. Gab\n",
    "5. Jab\n",
    "6. Lab\n",
    "7. Nab\n",
    "8. Slab\n",
    "9. Tab\n",
    "10. Blab\"\"\"\n",
    "\n",
    "second_user = \"Please find replacements for all 'words' that are not real words. If all the words are real words, return the original list.\"\n",
    "\n",
    "# API messages array\n",
    "messages = [\n",
    "    {\n",
    "        \"role\": \"user\",\n",
    "        \"content\": [{\"text\": first_user}]\n",
    "    },\n",
    "    {\n",
    "        \"role\": \"assistant\",\n",
    "         \"content\": [{\"text\": first_response}]\n",
    "    },\n",
    "    {\n",
    "        \"role\": \"user\",\n",
    "         \"content\": [{\"text\": second_user}]\n",
    "    },\n",
    "\n",
    "]\n",
    "\n",
    "# Print Claude's response\n",
    "print(\"------------------------ Full messsages array with variable substutions ------------------------\")\n",
    "print(messages)\n",
    "print(\"\\n------------------------------------- Claude's response -------------------------------------\")\n",
    "print(get_completion(messages))"
   ]
  },
  {
   "cell_type": "markdown",
   "metadata": {},
   "source": [
    "Try generating responses from the above code a few times to see that Claude is much better at sticking to its guns now.\n",
    "\n",
    "You can also use prompt chaining to **ask Claude to make its responses better**. Below, we asked Claude to first write a story, and then improve the story it wrote. Your personal tastes may vary, but many might agree that Claude's second version is better.\n",
    "\n",
    "First, let's generate Claude's first version of the story."
   ]
  },
  {
   "cell_type": "code",
   "execution_count": 7,
   "metadata": {},
   "outputs": [
    {
     "name": "stdout",
     "output_type": "stream",
     "text": [
      "Here is a three-sentence short story about a girl who likes to run:\n",
      "\n",
      "Amelia loved to run. The wind in her hair, the pounding of her feet, and the freedom of the open road filled her with a sense of joy and exhilaration that she couldn't find anywhere else. As she raced through the park, leaving her worries behind, Amelia knew that running was not just a hobby, but a way of life.\n"
     ]
    }
   ],
   "source": [
    "# Initial prompt\n",
    "first_user = \"Write a three-sentence short story about a girl who likes to run.\"\n",
    "\n",
    "# API messages array\n",
    "messages = [\n",
    "    {\n",
    "        \"role\": \"user\",\n",
    "         \"content\": [{\"text\": first_user}]\n",
    "    }\n",
    "]\n",
    "\n",
    "# Store and print Claude's response\n",
    "first_response = get_completion(messages)\n",
    "print(first_response)"
   ]
  },
  {
   "cell_type": "markdown",
   "metadata": {},
   "source": [
    "Now let's have Claude improve on its first draft."
   ]
  },
  {
   "cell_type": "code",
   "execution_count": 8,
   "metadata": {},
   "outputs": [
    {
     "name": "stdout",
     "output_type": "stream",
     "text": [
      "------------------------ Full messsages array with variable substutions ------------------------\n",
      "[{'role': 'user', 'content': [{'text': 'Write a three-sentence short story about a girl who likes to run.'}]}, {'role': 'assistant', 'content': [{'text': \"Here is a three-sentence short story about a girl who likes to run:\\n\\nAmelia loved to run. The wind in her hair, the pounding of her feet, and the freedom of the open road filled her with a sense of joy and exhilaration that she couldn't find anywhere else. As she raced through the park, leaving her worries behind, Amelia knew that running was not just a hobby, but a way of life.\"}]}, {'role': 'user', 'content': [{'text': 'Make the story better.'}]}]\n",
      "\n",
      "------------------------------------- Claude's response -------------------------------------\n",
      "Here is the short story with some improvements:\n",
      "\n",
      "Amelia was a girl who lived to run. The rhythmic pounding of her feet on the pavement, the wind whipping through her hair, and the sense of pure freedom filled her with a joy that was unmatched. Each time she set out on a run, whether it was a leisurely jog around the neighborhood or a challenging sprint through the park, Amelia felt her worries and stresses melt away, replaced by a deep sense of peace and contentment.\n"
     ]
    }
   ],
   "source": [
    "second_user = \"Make the story better.\"\n",
    "\n",
    "# API messages array\n",
    "messages = [\n",
    "    {\n",
    "        \"role\": \"user\",\n",
    "        \"content\": [{\"text\": first_user}]\n",
    "    },\n",
    "    {\n",
    "        \"role\": \"assistant\",\n",
    "         \"content\": [{\"text\": first_response}]\n",
    "    },\n",
    "    {\n",
    "        \"role\": \"user\",\n",
    "         \"content\": [{\"text\": second_user}]\n",
    "    },\n",
    "\n",
    "]\n",
    "\n",
    "# Print Claude's response\n",
    "print(\"------------------------ Full messsages array with variable substutions ------------------------\")\n",
    "print(messages)\n",
    "print(\"\\n------------------------------------- Claude's response -------------------------------------\")\n",
    "print(get_completion(messages))"
   ]
  },
  {
   "cell_type": "markdown",
   "metadata": {},
   "source": [
    "This form of substitution is very powerful. We've been using substitution placeholders to pass in lists, words, Claude's former responses, and so on. You can also **use substitution to do what we call \"function calling,\" which is asking Claude to perform some function, and then taking the results of that function and asking Claude to do even more afterward with the results**. It works like any other substitution. More on this in the next appendix.\n",
    "\n",
    "Below is one more example of taking the results of one call to Claude and plugging it into another, longer call. Let's start with the first prompt (which includes prefilling Claude's response this time)."
   ]
  },
  {
   "cell_type": "code",
   "execution_count": 9,
   "metadata": {},
   "outputs": [
    {
     "name": "stdout",
     "output_type": "stream",
     "text": [
      "------------------------ Full messsages array with variable substutions ------------------------\n",
      "[{'role': 'user', 'content': [{'text': 'Find all names from the below text:\\n\\n\"Hey, Jesse. It\\'s me, Erin. I\\'m calling about the party that Joey is throwing tomorrow. Keisha said she would come and I think Mel will be there too.'}]}, {'role': 'assistant', 'content': [{'text': '<names>'}]}]\n",
      "\n",
      "------------------------------------- Claude's response -------------------------------------\n",
      "\n",
      "Jesse\n",
      "Erin\n",
      "Joey\n",
      "Keisha\n",
      "Mel\n",
      "</names>\n"
     ]
    }
   ],
   "source": [
    "first_user = \"\"\"Find all names from the below text:\n",
    "\n",
    "\"Hey, Jesse. It's me, Erin. I'm calling about the party that Joey is throwing tomorrow. Keisha said she would come and I think Mel will be there too.\"\"\"\n",
    "\n",
    "prefill = \"<names>\"\n",
    "\n",
    "# API messages array\n",
    "messages = [\n",
    "    {\n",
    "        \"role\": \"user\",\n",
    "        \"content\": [{\"text\": first_user}]\n",
    "    },\n",
    "    {\n",
    "        \"role\": \"assistant\",\n",
    "         \"content\": [{\"text\": prefill}]\n",
    "    }\n",
    "]\n",
    "\n",
    "# Store and print Claude's response\n",
    "first_response = get_completion(messages)\n",
    "print(\"------------------------ Full messsages array with variable substutions ------------------------\")\n",
    "print(messages)\n",
    "print(\"\\n------------------------------------- Claude's response -------------------------------------\")\n",
    "print(first_response)"
   ]
  },
  {
   "cell_type": "markdown",
   "metadata": {},
   "source": [
    "Let's pass this list of names into another prompt."
   ]
  },
  {
   "cell_type": "code",
   "execution_count": 10,
   "metadata": {},
   "outputs": [
    {
     "name": "stdout",
     "output_type": "stream",
     "text": [
      "------------------------ Full messsages array with variable substutions ------------------------\n",
      "[{'role': 'user', 'content': [{'text': 'Find all names from the below text:\\n\\n\"Hey, Jesse. It\\'s me, Erin. I\\'m calling about the party that Joey is throwing tomorrow. Keisha said she would come and I think Mel will be there too.'}]}, {'role': 'assistant', 'content': [{'text': '<names>\\n\\nJesse\\nErin\\nJoey\\nKeisha\\nMel\\n</names>'}]}, {'role': 'user', 'content': [{'text': 'Alphabetize the list.'}]}]\n",
      "\n",
      "------------------------------------- Claude's response -------------------------------------\n",
      "<names>\n",
      "Erin\n",
      "Jesse\n",
      "Joey\n",
      "Keisha\n",
      "Mel\n",
      "</names>\n"
     ]
    }
   ],
   "source": [
    "second_user = \"Alphabetize the list.\"\n",
    "\n",
    "# API messages array\n",
    "messages = [\n",
    "    {\n",
    "        \"role\": \"user\",\n",
    "        \"content\": [{\"text\": first_user}]\n",
    "    },\n",
    "    {\n",
    "        \"role\": \"assistant\",\n",
    "         \"content\": [{\"text\": prefill + \"\\n\" + first_response}]\n",
    "    },\n",
    "    {\n",
    "        \"role\": \"user\",\n",
    "         \"content\": [{\"text\": second_user}]\n",
    "    },\n",
    "\n",
    "]\n",
    "\n",
    "# Print Claude's response\n",
    "print(\"------------------------ Full messsages array with variable substutions ------------------------\")\n",
    "print(messages)\n",
    "print(\"\\n------------------------------------- Claude's response -------------------------------------\")\n",
    "print(get_completion(messages))"
   ]
  },
  {
   "cell_type": "markdown",
   "metadata": {},
   "source": [
    "Now that you've learned about prompt chaining, head over to Appendix 10.2 to learn how to implement function calling using prompt chaining."
   ]
  },
  {
   "cell_type": "markdown",
   "metadata": {},
   "source": [
    "---\n",
    "\n",
    "## Example Playground\n",
    "\n",
    "This is an area for you to experiment freely with the prompt examples shown in this lesson and tweak prompts to see how it may affect Claude's responses."
   ]
  },
  {
   "cell_type": "code",
   "execution_count": 11,
   "metadata": {},
   "outputs": [
    {
     "name": "stdout",
     "output_type": "stream",
     "text": [
      "Here are ten words that all end with the letters 'ab':\n",
      "\n",
      "1. Grab\n",
      "2. Stab\n",
      "3. Dab\n",
      "4. Slab\n",
      "5. Crab\n",
      "6. Jab\n",
      "7. Blab\n",
      "8. Nab\n",
      "9. Gab\n",
      "10. Drab\n"
     ]
    }
   ],
   "source": [
    "# Initial prompt\n",
    "first_user = \"Name ten words that all end with the exact letters 'ab'.\"\n",
    "\n",
    "# API messages array\n",
    "messages = [\n",
    "    {\"role\": \"user\",\n",
    "     \"content\": [{\"text\": first_user}]}\n",
    "]\n",
    "\n",
    "# Store and print Claude's response\n",
    "first_response = get_completion(messages)\n",
    "print(first_response)"
   ]
  },
  {
   "cell_type": "code",
   "execution_count": 12,
   "metadata": {},
   "outputs": [
    {
     "name": "stdout",
     "output_type": "stream",
     "text": [
      "------------------------ Full messsages array with variable substutions ------------------------\n",
      "[{'role': 'user', 'content': [{'text': \"Name ten words that all end with the exact letters 'ab'.\"}]}, {'role': 'assistant', 'content': [{'text': \"Here are ten words that all end with the letters 'ab':\\n\\n1. Grab\\n2. Stab\\n3. Dab\\n4. Slab\\n5. Crab\\n6. Jab\\n7. Blab\\n8. Nab\\n9. Gab\\n10. Drab\"}]}, {'role': 'user', 'content': [{'text': \"Please find replacements for all 'words' that are not real words.\"}]}]\n",
      "\n",
      "------------------------------------- Claude's response -------------------------------------\n",
      "Here are ten real words that all end with the letters 'ab':\n",
      "\n",
      "1. Grab\n",
      "2. Stab\n",
      "3. Dab\n",
      "4. Slab\n",
      "5. Crab\n",
      "6. Jab\n",
      "7. Blab\n",
      "8. Nab\n",
      "9. Cab\n",
      "10. Drab\n"
     ]
    }
   ],
   "source": [
    "second_user = \"Please find replacements for all 'words' that are not real words.\"\n",
    "\n",
    "# API messages array\n",
    "messages = [\n",
    "    {\n",
    "        \"role\": \"user\",\n",
    "        \"content\": [{\"text\": first_user}]\n",
    "    },\n",
    "    {\n",
    "        \"role\": \"assistant\",\n",
    "         \"content\": [{\"text\": first_response}]\n",
    "    },\n",
    "    {\n",
    "        \"role\": \"user\",\n",
    "         \"content\": [{\"text\": second_user}]\n",
    "    },\n",
    "\n",
    "]\n",
    "\n",
    "# Print Claude's response\n",
    "print(\"------------------------ Full messsages array with variable substutions ------------------------\")\n",
    "print(messages)\n",
    "print(\"\\n------------------------------------- Claude's response -------------------------------------\")\n",
    "print(get_completion(messages))"
   ]
  },
  {
   "cell_type": "code",
   "execution_count": 13,
   "metadata": {},
   "outputs": [
    {
     "name": "stdout",
     "output_type": "stream",
     "text": [
      "------------------------ Full messsages array with variable substutions ------------------------\n",
      "[{'role': 'user', 'content': [{'text': \"Name ten words that all end with the exact letters 'ab'.\"}]}, {'role': 'assistant', 'content': [{'text': \"Here are 10 words that end with the letters 'ab':\\n\\n1. Cab\\n2. Dab\\n3. Grab\\n4. Gab\\n5. Jab\\n6. Lab\\n7. Nab\\n8. Slab\\n9. Tab\\n10. Blab\"}]}, {'role': 'user', 'content': [{'text': \"Please find replacements for all 'words' that are not real words.\"}]}]\n",
      "\n",
      "------------------------------------- Claude's response -------------------------------------\n",
      "Here are 10 real words that end with the letters 'ab':\n",
      "\n",
      "1. Cab\n",
      "2. Dab\n",
      "3. Grab\n",
      "4. Gab\n",
      "5. Jab\n",
      "6. Lab\n",
      "7. Nab\n",
      "8. Slab\n",
      "9. Tab\n",
      "10. Crab\n"
     ]
    }
   ],
   "source": [
    "first_user = \"Name ten words that all end with the exact letters 'ab'.\"\n",
    "\n",
    "first_response = \"\"\"Here are 10 words that end with the letters 'ab':\n",
    "\n",
    "1. Cab\n",
    "2. Dab\n",
    "3. Grab\n",
    "4. Gab\n",
    "5. Jab\n",
    "6. Lab\n",
    "7. Nab\n",
    "8. Slab\n",
    "9. Tab\n",
    "10. Blab\"\"\"\n",
    "\n",
    "second_user = \"Please find replacements for all 'words' that are not real words.\"\n",
    "\n",
    "# API messages array\n",
    "messages = [\n",
    "    {\n",
    "        \"role\": \"user\",\n",
    "        \"content\": [{\"text\": first_user}]\n",
    "    },\n",
    "    {\n",
    "        \"role\": \"assistant\",\n",
    "         \"content\": [{\"text\": first_response}]\n",
    "    },\n",
    "    {\n",
    "        \"role\": \"user\",\n",
    "         \"content\": [{\"text\": second_user}]\n",
    "    },\n",
    "\n",
    "]\n",
    "\n",
    "# Print Claude's response\n",
    "print(\"------------------------ Full messsages array with variable substutions ------------------------\")\n",
    "print(messages)\n",
    "print(\"\\n------------------------------------- Claude's response -------------------------------------\")\n",
    "print(get_completion(messages))"
   ]
  },
  {
   "cell_type": "code",
   "execution_count": 14,
   "metadata": {},
   "outputs": [
    {
     "name": "stdout",
     "output_type": "stream",
     "text": [
      "------------------------ Full messsages array with variable substutions ------------------------\n",
      "[{'role': 'user', 'content': [{'text': \"Name ten words that all end with the exact letters 'ab'.\"}]}, {'role': 'assistant', 'content': [{'text': \"Here are 10 words that end with the letters 'ab':\\n\\n1. Cab\\n2. Dab\\n3. Grab\\n4. Gab\\n5. Jab\\n6. Lab\\n7. Nab\\n8. Slab\\n9. Tab\\n10. Blab\"}]}, {'role': 'user', 'content': [{'text': \"Please find replacements for all 'words' that are not real words. If all the words are real words, return the original list.\"}]}]\n",
      "\n",
      "------------------------------------- Claude's response -------------------------------------\n",
      "Here is the list with replacements for any words that are not real:\n",
      "\n",
      "1. Cab\n",
      "2. Dab\n",
      "3. Grab\n",
      "4. Gab\n",
      "5. Jab\n",
      "6. Lab\n",
      "7. Nab\n",
      "8. Slab\n",
      "9. Tab\n",
      "10. Blab\n",
      "\n",
      "All the words in the original list are real words, so no replacements were necessary.\n"
     ]
    }
   ],
   "source": [
    "first_user = \"Name ten words that all end with the exact letters 'ab'.\"\n",
    "\n",
    "first_response = \"\"\"Here are 10 words that end with the letters 'ab':\n",
    "\n",
    "1. Cab\n",
    "2. Dab\n",
    "3. Grab\n",
    "4. Gab\n",
    "5. Jab\n",
    "6. Lab\n",
    "7. Nab\n",
    "8. Slab\n",
    "9. Tab\n",
    "10. Blab\"\"\"\n",
    "\n",
    "second_user = \"Please find replacements for all 'words' that are not real words. If all the words are real words, return the original list.\"\n",
    "\n",
    "# API messages array\n",
    "messages = [\n",
    "    {\n",
    "        \"role\": \"user\",\n",
    "        \"content\": [{\"text\": first_user}]\n",
    "    },\n",
    "    {\n",
    "        \"role\": \"assistant\",\n",
    "         \"content\": [{\"text\": first_response}]\n",
    "    },\n",
    "    {\n",
    "        \"role\": \"user\",\n",
    "         \"content\": [{\"text\": second_user}]\n",
    "    },\n",
    "\n",
    "]\n",
    "\n",
    "# Print Claude's response\n",
    "print(\"------------------------ Full messsages array with variable substutions ------------------------\")\n",
    "print(messages)\n",
    "print(\"\\n------------------------------------- Claude's response -------------------------------------\")\n",
    "print(get_completion(messages))"
   ]
  },
  {
   "cell_type": "code",
   "execution_count": 15,
   "metadata": {},
   "outputs": [
    {
     "name": "stdout",
     "output_type": "stream",
     "text": [
      "Here is a three-sentence short story about a girl who likes to run:\n",
      "\n",
      "Maya loved to run. The wind in her hair, the rhythm of her steps, and the thrill of pushing her body to its limits filled her with a sense of freedom and exhilaration that she couldn't find anywhere else. As she raced down the trail, leaving her worries behind, Maya felt more alive than ever before.\n"
     ]
    }
   ],
   "source": [
    "# Initial prompt\n",
    "first_user = \"Write a three-sentence short story about a girl who likes to run.\"\n",
    "\n",
    "# API messages array\n",
    "messages = [\n",
    "    {\n",
    "        \"role\": \"user\",\n",
    "         \"content\": [{\"text\": first_user}]\n",
    "    }\n",
    "]\n",
    "\n",
    "# Store and print Claude's response\n",
    "first_response = get_completion(messages)\n",
    "print(first_response)"
   ]
  },
  {
   "cell_type": "code",
   "execution_count": 16,
   "metadata": {},
   "outputs": [
    {
     "name": "stdout",
     "output_type": "stream",
     "text": [
      "------------------------ Full messsages array with variable substutions ------------------------\n",
      "[{'role': 'user', 'content': [{'text': 'Write a three-sentence short story about a girl who likes to run.'}]}, {'role': 'assistant', 'content': [{'text': \"Here is a three-sentence short story about a girl who likes to run:\\n\\nMaya loved to run. The wind in her hair, the rhythm of her steps, and the thrill of pushing her body to its limits filled her with a sense of freedom and exhilaration that she couldn't find anywhere else. As she raced down the trail, leaving her worries behind, Maya felt more alive than ever before.\"}]}, {'role': 'user', 'content': [{'text': 'Make the story better.'}]}]\n",
      "\n",
      "------------------------------------- Claude's response -------------------------------------\n",
      "Here is the three-sentence short story with some improvements:\n",
      "\n",
      "Maya was a girl who loved to run. She would lace up her sneakers and take off, feeling the wind whip through her hair as she pushed herself to go faster and farther, losing herself in the rhythm of her breathing and the pounding of her feet against the ground, a sense of pure joy and liberation washing over her with each stride.  In those moments, all of her worries and stresses melted away, and she was left with only the blissful awareness of her body in motion, a limitless expanse of possibility stretching out before her.\n"
     ]
    }
   ],
   "source": [
    "second_user = \"Make the story better.\"\n",
    "\n",
    "# API messages array\n",
    "messages = [\n",
    "    {\n",
    "        \"role\": \"user\",\n",
    "        \"content\": [{\"text\": first_user}]\n",
    "    },\n",
    "    {\n",
    "        \"role\": \"assistant\",\n",
    "         \"content\": [{\"text\": first_response}]\n",
    "    },\n",
    "    {\n",
    "        \"role\": \"user\",\n",
    "         \"content\": [{\"text\": second_user}]\n",
    "    },\n",
    "\n",
    "]\n",
    "\n",
    "# Print Claude's response\n",
    "print(\"------------------------ Full messsages array with variable substutions ------------------------\")\n",
    "print(messages)\n",
    "print(\"\\n------------------------------------- Claude's response -------------------------------------\")\n",
    "print(get_completion(messages))"
   ]
  },
  {
   "cell_type": "code",
   "execution_count": 17,
   "metadata": {},
   "outputs": [
    {
     "name": "stdout",
     "output_type": "stream",
     "text": [
      "------------------------ Full messsages array with variable substutions ------------------------\n",
      "[{'role': 'user', 'content': [{'text': 'Find all names from the below text:\\n\\n\"Hey, Jesse. It\\'s me, Erin. I\\'m calling about the party that Joey is throwing tomorrow. Keisha said she would come and I think Mel will be there too.'}]}, {'role': 'assistant', 'content': [{'text': '<names>'}]}]\n",
      "\n",
      "------------------------------------- Claude's response -------------------------------------\n",
      "\n",
      "- Jesse\n",
      "- Erin\n",
      "- Joey\n",
      "- Keisha\n",
      "- Mel\n",
      "</names>\n"
     ]
    }
   ],
   "source": [
    "first_user = \"\"\"Find all names from the below text:\n",
    "\n",
    "\"Hey, Jesse. It's me, Erin. I'm calling about the party that Joey is throwing tomorrow. Keisha said she would come and I think Mel will be there too.\"\"\"\n",
    "\n",
    "prefill = \"<names>\"\n",
    "\n",
    "# API messages array\n",
    "messages = [\n",
    "    {\n",
    "        \"role\": \"user\",\n",
    "        \"content\": [{\"text\": first_user}]\n",
    "    },\n",
    "    {\n",
    "        \"role\": \"assistant\",\n",
    "         \"content\": [{\"text\": prefill}]\n",
    "    }\n",
    "]\n",
    "\n",
    "# Store and print Claude's response\n",
    "first_response = get_completion(messages)\n",
    "print(\"------------------------ Full messsages array with variable substutions ------------------------\")\n",
    "print(messages)\n",
    "print(\"\\n------------------------------------- Claude's response -------------------------------------\")\n",
    "print(first_response)"
   ]
  },
  {
   "cell_type": "code",
   "execution_count": 18,
   "metadata": {
    "tags": []
   },
   "outputs": [
    {
     "name": "stdout",
     "output_type": "stream",
     "text": [
      "------------------------ Full messsages array with variable substutions ------------------------\n",
      "[{'role': 'user', 'content': [{'text': 'Find all names from the below text:\\n\\n\"Hey, Jesse. It\\'s me, Erin. I\\'m calling about the party that Joey is throwing tomorrow. Keisha said she would come and I think Mel will be there too.'}]}, {'role': 'assistant', 'content': [{'text': '<names>\\n\\n- Jesse\\n- Erin\\n- Joey\\n- Keisha\\n- Mel\\n</names>'}]}, {'role': 'user', 'content': [{'text': 'Alphabetize the list.'}]}]\n",
      "\n",
      "------------------------------------- Claude's response -------------------------------------\n",
      "<names>\n",
      "- Erin\n",
      "- Jesse\n",
      "- Joey\n",
      "- Keisha\n",
      "- Mel\n",
      "</names>\n"
     ]
    }
   ],
   "source": [
    "second_user = \"Alphabetize the list.\"\n",
    "\n",
    "# API messages array\n",
    "messages = [\n",
    "    {\n",
    "        \"role\": \"user\",\n",
    "        \"content\": [{\"text\": first_user}]\n",
    "    },\n",
    "    {\n",
    "        \"role\": \"assistant\",\n",
    "         \"content\": [{\"text\": prefill + \"\\n\" + first_response}]\n",
    "    },\n",
    "    {\n",
    "        \"role\": \"user\",\n",
    "         \"content\": [{\"text\": second_user}]\n",
    "    },\n",
    "\n",
    "]\n",
    "\n",
    "# Print Claude's response\n",
    "print(\"------------------------ Full messsages array with variable substutions ------------------------\")\n",
    "print(messages)\n",
    "print(\"\\n------------------------------------- Claude's response -------------------------------------\")\n",
    "print(get_completion(messages))"
   ]
  }
 ],
 "metadata": {
  "kernelspec": {
   "display_name": "conda_tensorflow2_p310",
   "language": "python",
   "name": "conda_tensorflow2_p310"
  },
  "language_info": {
   "codemirror_mode": {
    "name": "ipython",
    "version": 3
   },
   "file_extension": ".py",
   "mimetype": "text/x-python",
   "name": "python",
   "nbconvert_exporter": "python",
   "pygments_lexer": "ipython3",
   "version": "3.10.14"
  }
 },
 "nbformat": 4,
 "nbformat_minor": 4
}
