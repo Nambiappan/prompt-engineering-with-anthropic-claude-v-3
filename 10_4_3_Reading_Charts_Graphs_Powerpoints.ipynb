{
 "cells": [
  {
   "cell_type": "markdown",
   "metadata": {},
   "source": [
    "# Appendix 10.4.3: Working with Charts, Graphs, and Slide Decks\n",
    "Claude is highly capable of working with charts, graphs, and broader slide decks. Depending on your use case, there are a number of tips and tricks that you may want to take advantage of. This recipe will show you common patterns for using Claude with these materials."
   ]
  },
  {
   "cell_type": "markdown",
   "metadata": {},
   "source": [
    "## Charts and Graphs\n",
    "For the most part, using claude with charts and graphs is simple. Let's walk through how to ingest them and pass them to Claude, as well as some common tips to improve your results."
   ]
  },
  {
   "cell_type": "markdown",
   "metadata": {},
   "source": [
    "### Ingestion and calling the Claude API\n",
    "The best way to pass Claude charts and graphs is to take advantage of its vision capabilities. That is, give Claude an image of the chart or graph, along with a text question about it. While all versions of Claude can accept images, Sonnet and Opus are our recommended models for data-heavy image tasks. Let's get started using Sonnet."
   ]
  },
  {
   "cell_type": "code",
   "execution_count": 2,
   "metadata": {},
   "outputs": [
    {
     "name": "stdout",
     "output_type": "stream",
     "text": [
      "Requirement already satisfied: python-dotenv==1.0.1 in /home/codespace/.local/lib/python3.12/site-packages (from -r requirements.txt (line 1)) (1.0.1)\n",
      "Requirement already satisfied: wikipedia==1.4.0 in /home/codespace/.local/lib/python3.12/site-packages (from -r requirements.txt (line 2)) (1.4.0)\n",
      "Requirement already satisfied: awscli==1.33.13 in /home/codespace/.local/lib/python3.12/site-packages (from -r requirements.txt (line 3)) (1.33.13)\n",
      "Requirement already satisfied: boto3==1.34.131 in /home/codespace/.local/lib/python3.12/site-packages (from -r requirements.txt (line 4)) (1.34.131)\n",
      "Requirement already satisfied: botocore==1.34.131 in /home/codespace/.local/lib/python3.12/site-packages (from -r requirements.txt (line 5)) (1.34.131)\n",
      "Requirement already satisfied: panel==1.4.3 in /home/codespace/.local/lib/python3.12/site-packages (from -r requirements.txt (line 6)) (1.4.3)\n",
      "Requirement already satisfied: pickleshare==0.7.5 in /home/codespace/.local/lib/python3.12/site-packages (from -r requirements.txt (line 7)) (0.7.5)\n",
      "Collecting ipython==8.25.0 (from -r requirements.txt (line 8))\n",
      "  Using cached ipython-8.25.0-py3-none-any.whl.metadata (4.9 kB)\n",
      "Collecting pandas==1.5.3 (from -r requirements.txt (line 9))\n",
      "  Using cached pandas-1.5.3-cp312-cp312-linux_x86_64.whl\n",
      "Collecting jedi===0.17.2 (from -r requirements.txt (line 10))\n",
      "  Using cached jedi-0.17.2-py2.py3-none-any.whl.metadata (19 kB)\n",
      "Requirement already satisfied: mkl==2024.1.0 in /home/codespace/.local/lib/python3.12/site-packages (from -r requirements.txt (line 11)) (2024.1.0)\n",
      "Requirement already satisfied: pdf2image==1.17.0 in /home/codespace/.local/lib/python3.12/site-packages (from -r requirements.txt (line 12)) (1.17.0)\n",
      "Requirement already satisfied: PyMuPDF==1.24.5 in /home/codespace/.local/lib/python3.12/site-packages (from -r requirements.txt (line 13)) (1.24.5)\n",
      "Collecting matplotlib==3.9.0 (from -r requirements.txt (line 14))\n",
      "  Using cached matplotlib-3.9.0-cp312-cp312-manylinux_2_17_x86_64.manylinux2014_x86_64.whl.metadata (11 kB)\n",
      "Collecting numpy==1.26.4 (from -r requirements.txt (line 15))\n",
      "  Using cached numpy-1.26.4-cp312-cp312-manylinux_2_17_x86_64.manylinux2014_x86_64.whl.metadata (61 kB)\n",
      "Requirement already satisfied: docutils<0.17 in /home/codespace/.local/lib/python3.12/site-packages (from -r requirements.txt (line 16)) (0.16)\n",
      "Requirement already satisfied: beautifulsoup4 in /home/codespace/.local/lib/python3.12/site-packages (from wikipedia==1.4.0->-r requirements.txt (line 2)) (4.12.3)\n",
      "Requirement already satisfied: requests<3.0.0,>=2.0.0 in /home/codespace/.local/lib/python3.12/site-packages (from wikipedia==1.4.0->-r requirements.txt (line 2)) (2.32.3)\n",
      "Requirement already satisfied: s3transfer<0.11.0,>=0.10.0 in /home/codespace/.local/lib/python3.12/site-packages (from awscli==1.33.13->-r requirements.txt (line 3)) (0.10.3)\n",
      "Requirement already satisfied: PyYAML<6.1,>=3.10 in /home/codespace/.local/lib/python3.12/site-packages (from awscli==1.33.13->-r requirements.txt (line 3)) (6.0.2)\n",
      "Requirement already satisfied: colorama<0.4.7,>=0.2.5 in /home/codespace/.local/lib/python3.12/site-packages (from awscli==1.33.13->-r requirements.txt (line 3)) (0.4.6)\n",
      "Requirement already satisfied: rsa<4.8,>=3.1.2 in /home/codespace/.local/lib/python3.12/site-packages (from awscli==1.33.13->-r requirements.txt (line 3)) (4.7.2)\n",
      "Requirement already satisfied: jmespath<2.0.0,>=0.7.1 in /home/codespace/.local/lib/python3.12/site-packages (from boto3==1.34.131->-r requirements.txt (line 4)) (1.0.1)\n",
      "Requirement already satisfied: python-dateutil<3.0.0,>=2.1 in /home/codespace/.local/lib/python3.12/site-packages (from botocore==1.34.131->-r requirements.txt (line 5)) (2.9.0.post0)\n",
      "Requirement already satisfied: urllib3!=2.2.0,<3,>=1.25.4 in /home/codespace/.local/lib/python3.12/site-packages (from botocore==1.34.131->-r requirements.txt (line 5)) (2.2.3)\n",
      "Requirement already satisfied: bokeh<3.5.0,>=3.4.0 in /home/codespace/.local/lib/python3.12/site-packages (from panel==1.4.3->-r requirements.txt (line 6)) (3.4.3)\n",
      "Requirement already satisfied: param<3.0,>=2.1.0 in /home/codespace/.local/lib/python3.12/site-packages (from panel==1.4.3->-r requirements.txt (line 6)) (2.1.1)\n",
      "Requirement already satisfied: pyviz-comms>=2.0.0 in /home/codespace/.local/lib/python3.12/site-packages (from panel==1.4.3->-r requirements.txt (line 6)) (3.0.3)\n",
      "Requirement already satisfied: xyzservices>=2021.09.1 in /home/codespace/.local/lib/python3.12/site-packages (from panel==1.4.3->-r requirements.txt (line 6)) (2024.9.0)\n",
      "Requirement already satisfied: markdown in /home/codespace/.local/lib/python3.12/site-packages (from panel==1.4.3->-r requirements.txt (line 6)) (3.7)\n",
      "Requirement already satisfied: markdown-it-py in /home/codespace/.local/lib/python3.12/site-packages (from panel==1.4.3->-r requirements.txt (line 6)) (3.0.0)\n",
      "Requirement already satisfied: linkify-it-py in /home/codespace/.local/lib/python3.12/site-packages (from panel==1.4.3->-r requirements.txt (line 6)) (2.0.3)\n",
      "Requirement already satisfied: mdit-py-plugins in /home/codespace/.local/lib/python3.12/site-packages (from panel==1.4.3->-r requirements.txt (line 6)) (0.4.2)\n",
      "Requirement already satisfied: tqdm>=4.48.0 in /home/codespace/.local/lib/python3.12/site-packages (from panel==1.4.3->-r requirements.txt (line 6)) (4.66.5)\n",
      "Requirement already satisfied: bleach in /home/codespace/.local/lib/python3.12/site-packages (from panel==1.4.3->-r requirements.txt (line 6)) (6.1.0)\n",
      "Requirement already satisfied: typing-extensions in /home/codespace/.local/lib/python3.12/site-packages (from panel==1.4.3->-r requirements.txt (line 6)) (4.12.2)\n",
      "Requirement already satisfied: decorator in /home/codespace/.local/lib/python3.12/site-packages (from ipython==8.25.0->-r requirements.txt (line 8)) (5.1.1)\n",
      "Requirement already satisfied: matplotlib-inline in /home/codespace/.local/lib/python3.12/site-packages (from ipython==8.25.0->-r requirements.txt (line 8)) (0.1.7)\n",
      "Requirement already satisfied: prompt-toolkit<3.1.0,>=3.0.41 in /home/codespace/.local/lib/python3.12/site-packages (from ipython==8.25.0->-r requirements.txt (line 8)) (3.0.48)\n",
      "Requirement already satisfied: pygments>=2.4.0 in /home/codespace/.local/lib/python3.12/site-packages (from ipython==8.25.0->-r requirements.txt (line 8)) (2.18.0)\n",
      "Requirement already satisfied: stack-data in /home/codespace/.local/lib/python3.12/site-packages (from ipython==8.25.0->-r requirements.txt (line 8)) (0.6.3)\n",
      "Requirement already satisfied: traitlets>=5.13.0 in /home/codespace/.local/lib/python3.12/site-packages (from ipython==8.25.0->-r requirements.txt (line 8)) (5.14.3)\n",
      "Requirement already satisfied: pexpect>4.3 in /home/codespace/.local/lib/python3.12/site-packages (from ipython==8.25.0->-r requirements.txt (line 8)) (4.9.0)\n",
      "Requirement already satisfied: pytz>=2020.1 in /home/codespace/.local/lib/python3.12/site-packages (from pandas==1.5.3->-r requirements.txt (line 9)) (2024.2)\n",
      "Collecting parso<0.8.0,>=0.7.0 (from jedi===0.17.2->-r requirements.txt (line 10))\n",
      "  Using cached parso-0.7.1-py2.py3-none-any.whl.metadata (7.0 kB)\n",
      "Requirement already satisfied: intel-openmp==2024.* in /home/codespace/.local/lib/python3.12/site-packages (from mkl==2024.1.0->-r requirements.txt (line 11)) (2024.2.1)\n",
      "Requirement already satisfied: tbb==2021.* in /home/codespace/.local/lib/python3.12/site-packages (from mkl==2024.1.0->-r requirements.txt (line 11)) (2021.13.1)\n",
      "Requirement already satisfied: pillow in /home/codespace/.local/lib/python3.12/site-packages (from pdf2image==1.17.0->-r requirements.txt (line 12)) (11.0.0)\n",
      "Requirement already satisfied: PyMuPDFb==1.24.3 in /home/codespace/.local/lib/python3.12/site-packages (from PyMuPDF==1.24.5->-r requirements.txt (line 13)) (1.24.3)\n",
      "Requirement already satisfied: contourpy>=1.0.1 in /home/codespace/.local/lib/python3.12/site-packages (from matplotlib==3.9.0->-r requirements.txt (line 14)) (1.3.0)\n",
      "Requirement already satisfied: cycler>=0.10 in /home/codespace/.local/lib/python3.12/site-packages (from matplotlib==3.9.0->-r requirements.txt (line 14)) (0.12.1)\n",
      "Requirement already satisfied: fonttools>=4.22.0 in /home/codespace/.local/lib/python3.12/site-packages (from matplotlib==3.9.0->-r requirements.txt (line 14)) (4.54.1)\n",
      "Requirement already satisfied: kiwisolver>=1.3.1 in /home/codespace/.local/lib/python3.12/site-packages (from matplotlib==3.9.0->-r requirements.txt (line 14)) (1.4.7)\n",
      "Requirement already satisfied: packaging>=20.0 in /home/codespace/.local/lib/python3.12/site-packages (from matplotlib==3.9.0->-r requirements.txt (line 14)) (24.1)\n",
      "Requirement already satisfied: pyparsing>=2.3.1 in /home/codespace/.local/lib/python3.12/site-packages (from matplotlib==3.9.0->-r requirements.txt (line 14)) (3.2.0)\n",
      "Requirement already satisfied: intel-cmplr-lib-ur==2024.2.1 in /home/codespace/.local/lib/python3.12/site-packages (from intel-openmp==2024.*->mkl==2024.1.0->-r requirements.txt (line 11)) (2024.2.1)\n",
      "Requirement already satisfied: Jinja2>=2.9 in /home/codespace/.local/lib/python3.12/site-packages (from bokeh<3.5.0,>=3.4.0->panel==1.4.3->-r requirements.txt (line 6)) (3.1.4)\n",
      "Requirement already satisfied: tornado>=6.2 in /home/codespace/.local/lib/python3.12/site-packages (from bokeh<3.5.0,>=3.4.0->panel==1.4.3->-r requirements.txt (line 6)) (6.4.1)\n",
      "Requirement already satisfied: ptyprocess>=0.5 in /home/codespace/.local/lib/python3.12/site-packages (from pexpect>4.3->ipython==8.25.0->-r requirements.txt (line 8)) (0.7.0)\n",
      "Requirement already satisfied: wcwidth in /home/codespace/.local/lib/python3.12/site-packages (from prompt-toolkit<3.1.0,>=3.0.41->ipython==8.25.0->-r requirements.txt (line 8)) (0.2.13)\n",
      "Requirement already satisfied: six>=1.5 in /home/codespace/.local/lib/python3.12/site-packages (from python-dateutil<3.0.0,>=2.1->botocore==1.34.131->-r requirements.txt (line 5)) (1.16.0)\n",
      "Requirement already satisfied: charset-normalizer<4,>=2 in /home/codespace/.local/lib/python3.12/site-packages (from requests<3.0.0,>=2.0.0->wikipedia==1.4.0->-r requirements.txt (line 2)) (3.4.0)\n",
      "Requirement already satisfied: idna<4,>=2.5 in /home/codespace/.local/lib/python3.12/site-packages (from requests<3.0.0,>=2.0.0->wikipedia==1.4.0->-r requirements.txt (line 2)) (3.10)\n",
      "Requirement already satisfied: certifi>=2017.4.17 in /home/codespace/.local/lib/python3.12/site-packages (from requests<3.0.0,>=2.0.0->wikipedia==1.4.0->-r requirements.txt (line 2)) (2024.8.30)\n",
      "Requirement already satisfied: pyasn1>=0.1.3 in /home/codespace/.local/lib/python3.12/site-packages (from rsa<4.8,>=3.1.2->awscli==1.33.13->-r requirements.txt (line 3)) (0.6.1)\n",
      "Requirement already satisfied: soupsieve>1.2 in /home/codespace/.local/lib/python3.12/site-packages (from beautifulsoup4->wikipedia==1.4.0->-r requirements.txt (line 2)) (2.6)\n",
      "Requirement already satisfied: webencodings in /home/codespace/.local/lib/python3.12/site-packages (from bleach->panel==1.4.3->-r requirements.txt (line 6)) (0.5.1)\n",
      "Requirement already satisfied: uc-micro-py in /home/codespace/.local/lib/python3.12/site-packages (from linkify-it-py->panel==1.4.3->-r requirements.txt (line 6)) (1.0.3)\n",
      "Requirement already satisfied: mdurl~=0.1 in /home/codespace/.local/lib/python3.12/site-packages (from markdown-it-py->panel==1.4.3->-r requirements.txt (line 6)) (0.1.2)\n",
      "Requirement already satisfied: executing>=1.2.0 in /home/codespace/.local/lib/python3.12/site-packages (from stack-data->ipython==8.25.0->-r requirements.txt (line 8)) (2.1.0)\n",
      "Requirement already satisfied: asttokens>=2.1.0 in /home/codespace/.local/lib/python3.12/site-packages (from stack-data->ipython==8.25.0->-r requirements.txt (line 8)) (2.4.1)\n",
      "Requirement already satisfied: pure-eval in /home/codespace/.local/lib/python3.12/site-packages (from stack-data->ipython==8.25.0->-r requirements.txt (line 8)) (0.2.3)\n",
      "Requirement already satisfied: MarkupSafe>=2.0 in /home/codespace/.local/lib/python3.12/site-packages (from Jinja2>=2.9->bokeh<3.5.0,>=3.4.0->panel==1.4.3->-r requirements.txt (line 6)) (3.0.2)\n",
      "Using cached ipython-8.25.0-py3-none-any.whl (817 kB)\n",
      "Using cached jedi-0.17.2-py2.py3-none-any.whl (1.4 MB)\n",
      "Using cached matplotlib-3.9.0-cp312-cp312-manylinux_2_17_x86_64.manylinux2014_x86_64.whl (8.3 MB)\n",
      "Using cached numpy-1.26.4-cp312-cp312-manylinux_2_17_x86_64.manylinux2014_x86_64.whl (18.0 MB)\n",
      "Using cached parso-0.7.1-py2.py3-none-any.whl (109 kB)\n",
      "Installing collected packages: parso, numpy, pandas, jedi, matplotlib, ipython\n",
      "  Attempting uninstall: parso\n",
      "    Found existing installation: parso 0.8.4\n",
      "    Uninstalling parso-0.8.4:\n",
      "      Successfully uninstalled parso-0.8.4\n",
      "  Attempting uninstall: numpy\n",
      "    Found existing installation: numpy 2.1.1\n",
      "    Uninstalling numpy-2.1.1:\n",
      "      Successfully uninstalled numpy-2.1.1\n",
      "\u001b[33m  WARNING: The script f2py is installed in '/usr/local/python/3.12.1/bin' which is not on PATH.\n",
      "  Consider adding this directory to PATH or, if you prefer to suppress this warning, use --no-warn-script-location.\u001b[0m\u001b[33m\n",
      "\u001b[0m  Attempting uninstall: pandas\n",
      "    Found existing installation: pandas 2.2.3\n",
      "    Uninstalling pandas-2.2.3:\n",
      "      Successfully uninstalled pandas-2.2.3\n",
      "  Attempting uninstall: jedi\n",
      "    Found existing installation: jedi 0.19.1\n",
      "    Uninstalling jedi-0.19.1:\n",
      "      Successfully uninstalled jedi-0.19.1\n",
      "  Attempting uninstall: matplotlib\n",
      "    Found existing installation: matplotlib 3.9.2\n",
      "    Uninstalling matplotlib-3.9.2:\n",
      "      Successfully uninstalled matplotlib-3.9.2\n",
      "  Attempting uninstall: ipython\n",
      "    Found existing installation: ipython 8.27.0\n",
      "    Uninstalling ipython-8.27.0:\n",
      "      Successfully uninstalled ipython-8.27.0\n",
      "\u001b[33m  WARNING: The scripts ipython and ipython3 are installed in '/usr/local/python/3.12.1/bin' which is not on PATH.\n",
      "  Consider adding this directory to PATH or, if you prefer to suppress this warning, use --no-warn-script-location.\u001b[0m\u001b[33m\n",
      "\u001b[0mSuccessfully installed ipython-8.25.0 jedi-0.17.2 matplotlib-3.9.0 numpy-1.26.4 pandas-1.5.3 parso-0.7.1\n",
      "Note: you may need to restart the kernel to use updated packages.\n"
     ]
    }
   ],
   "source": [
    "pip install -r requirements.txt"
   ]
  },
  {
   "cell_type": "code",
   "execution_count": 3,
   "metadata": {},
   "outputs": [
    {
     "name": "stdout",
     "output_type": "stream",
     "text": [
      "Using modelId: anthropic.claude-3-haiku-20240307-v1:0\n",
      "Using region:  None\n"
     ]
    },
    {
     "ename": "NoRegionError",
     "evalue": "You must specify a region.",
     "output_type": "error",
     "traceback": [
      "\u001b[0;31m---------------------------------------------------------------------------\u001b[0m",
      "\u001b[0;31mNoRegionError\u001b[0m                             Traceback (most recent call last)",
      "Cell \u001b[0;32mIn[3], line 17\u001b[0m\n\u001b[1;32m     14\u001b[0m \u001b[38;5;28mprint\u001b[39m(\u001b[38;5;124mf\u001b[39m\u001b[38;5;124m'\u001b[39m\u001b[38;5;124mUsing modelId: \u001b[39m\u001b[38;5;132;01m{\u001b[39;00mmodelId\u001b[38;5;132;01m}\u001b[39;00m\u001b[38;5;124m'\u001b[39m)\n\u001b[1;32m     15\u001b[0m \u001b[38;5;28mprint\u001b[39m(\u001b[38;5;124m'\u001b[39m\u001b[38;5;124mUsing region: \u001b[39m\u001b[38;5;124m'\u001b[39m, region)\n\u001b[0;32m---> 17\u001b[0m bedrock_client \u001b[38;5;241m=\u001b[39m \u001b[43mboto3\u001b[49m\u001b[38;5;241;43m.\u001b[39;49m\u001b[43mclient\u001b[49m\u001b[43m(\u001b[49m\u001b[43mservice_name\u001b[49m\u001b[43m \u001b[49m\u001b[38;5;241;43m=\u001b[39;49m\u001b[43m \u001b[49m\u001b[38;5;124;43m'\u001b[39;49m\u001b[38;5;124;43mbedrock-runtime\u001b[39;49m\u001b[38;5;124;43m'\u001b[39;49m\u001b[43m,\u001b[49m\u001b[43m \u001b[49m\u001b[43mregion_name\u001b[49m\u001b[43m \u001b[49m\u001b[38;5;241;43m=\u001b[39;49m\u001b[43m \u001b[49m\u001b[43mregion\u001b[49m\u001b[43m,\u001b[49m\u001b[43m)\u001b[49m\n",
      "File \u001b[0;32m~/.local/lib/python3.12/site-packages/boto3/__init__.py:92\u001b[0m, in \u001b[0;36mclient\u001b[0;34m(*args, **kwargs)\u001b[0m\n\u001b[1;32m     86\u001b[0m \u001b[38;5;28;01mdef\u001b[39;00m \u001b[38;5;21mclient\u001b[39m(\u001b[38;5;241m*\u001b[39margs, \u001b[38;5;241m*\u001b[39m\u001b[38;5;241m*\u001b[39mkwargs):\n\u001b[1;32m     87\u001b[0m \u001b[38;5;250m    \u001b[39m\u001b[38;5;124;03m\"\"\"\u001b[39;00m\n\u001b[1;32m     88\u001b[0m \u001b[38;5;124;03m    Create a low-level service client by name using the default session.\u001b[39;00m\n\u001b[1;32m     89\u001b[0m \n\u001b[1;32m     90\u001b[0m \u001b[38;5;124;03m    See :py:meth:`boto3.session.Session.client`.\u001b[39;00m\n\u001b[1;32m     91\u001b[0m \u001b[38;5;124;03m    \"\"\"\u001b[39;00m\n\u001b[0;32m---> 92\u001b[0m     \u001b[38;5;28;01mreturn\u001b[39;00m \u001b[43m_get_default_session\u001b[49m\u001b[43m(\u001b[49m\u001b[43m)\u001b[49m\u001b[38;5;241;43m.\u001b[39;49m\u001b[43mclient\u001b[49m\u001b[43m(\u001b[49m\u001b[38;5;241;43m*\u001b[39;49m\u001b[43margs\u001b[49m\u001b[43m,\u001b[49m\u001b[43m \u001b[49m\u001b[38;5;241;43m*\u001b[39;49m\u001b[38;5;241;43m*\u001b[39;49m\u001b[43mkwargs\u001b[49m\u001b[43m)\u001b[49m\n",
      "File \u001b[0;32m~/.local/lib/python3.12/site-packages/boto3/session.py:297\u001b[0m, in \u001b[0;36mSession.client\u001b[0;34m(self, service_name, region_name, api_version, use_ssl, verify, endpoint_url, aws_access_key_id, aws_secret_access_key, aws_session_token, config)\u001b[0m\n\u001b[1;32m    215\u001b[0m \u001b[38;5;28;01mdef\u001b[39;00m \u001b[38;5;21mclient\u001b[39m(\n\u001b[1;32m    216\u001b[0m     \u001b[38;5;28mself\u001b[39m,\n\u001b[1;32m    217\u001b[0m     service_name,\n\u001b[0;32m   (...)\u001b[0m\n\u001b[1;32m    226\u001b[0m     config\u001b[38;5;241m=\u001b[39m\u001b[38;5;28;01mNone\u001b[39;00m,\n\u001b[1;32m    227\u001b[0m ):\n\u001b[1;32m    228\u001b[0m \u001b[38;5;250m    \u001b[39m\u001b[38;5;124;03m\"\"\"\u001b[39;00m\n\u001b[1;32m    229\u001b[0m \u001b[38;5;124;03m    Create a low-level service client by name.\u001b[39;00m\n\u001b[1;32m    230\u001b[0m \n\u001b[0;32m   (...)\u001b[0m\n\u001b[1;32m    295\u001b[0m \n\u001b[1;32m    296\u001b[0m \u001b[38;5;124;03m    \"\"\"\u001b[39;00m\n\u001b[0;32m--> 297\u001b[0m     \u001b[38;5;28;01mreturn\u001b[39;00m \u001b[38;5;28;43mself\u001b[39;49m\u001b[38;5;241;43m.\u001b[39;49m\u001b[43m_session\u001b[49m\u001b[38;5;241;43m.\u001b[39;49m\u001b[43mcreate_client\u001b[49m\u001b[43m(\u001b[49m\n\u001b[1;32m    298\u001b[0m \u001b[43m        \u001b[49m\u001b[43mservice_name\u001b[49m\u001b[43m,\u001b[49m\n\u001b[1;32m    299\u001b[0m \u001b[43m        \u001b[49m\u001b[43mregion_name\u001b[49m\u001b[38;5;241;43m=\u001b[39;49m\u001b[43mregion_name\u001b[49m\u001b[43m,\u001b[49m\n\u001b[1;32m    300\u001b[0m \u001b[43m        \u001b[49m\u001b[43mapi_version\u001b[49m\u001b[38;5;241;43m=\u001b[39;49m\u001b[43mapi_version\u001b[49m\u001b[43m,\u001b[49m\n\u001b[1;32m    301\u001b[0m \u001b[43m        \u001b[49m\u001b[43muse_ssl\u001b[49m\u001b[38;5;241;43m=\u001b[39;49m\u001b[43muse_ssl\u001b[49m\u001b[43m,\u001b[49m\n\u001b[1;32m    302\u001b[0m \u001b[43m        \u001b[49m\u001b[43mverify\u001b[49m\u001b[38;5;241;43m=\u001b[39;49m\u001b[43mverify\u001b[49m\u001b[43m,\u001b[49m\n\u001b[1;32m    303\u001b[0m \u001b[43m        \u001b[49m\u001b[43mendpoint_url\u001b[49m\u001b[38;5;241;43m=\u001b[39;49m\u001b[43mendpoint_url\u001b[49m\u001b[43m,\u001b[49m\n\u001b[1;32m    304\u001b[0m \u001b[43m        \u001b[49m\u001b[43maws_access_key_id\u001b[49m\u001b[38;5;241;43m=\u001b[39;49m\u001b[43maws_access_key_id\u001b[49m\u001b[43m,\u001b[49m\n\u001b[1;32m    305\u001b[0m \u001b[43m        \u001b[49m\u001b[43maws_secret_access_key\u001b[49m\u001b[38;5;241;43m=\u001b[39;49m\u001b[43maws_secret_access_key\u001b[49m\u001b[43m,\u001b[49m\n\u001b[1;32m    306\u001b[0m \u001b[43m        \u001b[49m\u001b[43maws_session_token\u001b[49m\u001b[38;5;241;43m=\u001b[39;49m\u001b[43maws_session_token\u001b[49m\u001b[43m,\u001b[49m\n\u001b[1;32m    307\u001b[0m \u001b[43m        \u001b[49m\u001b[43mconfig\u001b[49m\u001b[38;5;241;43m=\u001b[39;49m\u001b[43mconfig\u001b[49m\u001b[43m,\u001b[49m\n\u001b[1;32m    308\u001b[0m \u001b[43m    \u001b[49m\u001b[43m)\u001b[49m\n",
      "File \u001b[0;32m~/.local/lib/python3.12/site-packages/botocore/session.py:997\u001b[0m, in \u001b[0;36mSession.create_client\u001b[0;34m(self, service_name, region_name, api_version, use_ssl, verify, endpoint_url, aws_access_key_id, aws_secret_access_key, aws_session_token, config)\u001b[0m\n\u001b[1;32m    980\u001b[0m \u001b[38;5;28mself\u001b[39m\u001b[38;5;241m.\u001b[39m_add_configured_endpoint_provider(\n\u001b[1;32m    981\u001b[0m     client_name\u001b[38;5;241m=\u001b[39mservice_name,\n\u001b[1;32m    982\u001b[0m     config_store\u001b[38;5;241m=\u001b[39mconfig_store,\n\u001b[1;32m    983\u001b[0m )\n\u001b[1;32m    985\u001b[0m client_creator \u001b[38;5;241m=\u001b[39m botocore\u001b[38;5;241m.\u001b[39mclient\u001b[38;5;241m.\u001b[39mClientCreator(\n\u001b[1;32m    986\u001b[0m     loader,\n\u001b[1;32m    987\u001b[0m     endpoint_resolver,\n\u001b[0;32m   (...)\u001b[0m\n\u001b[1;32m    995\u001b[0m     user_agent_creator\u001b[38;5;241m=\u001b[39muser_agent_creator,\n\u001b[1;32m    996\u001b[0m )\n\u001b[0;32m--> 997\u001b[0m client \u001b[38;5;241m=\u001b[39m \u001b[43mclient_creator\u001b[49m\u001b[38;5;241;43m.\u001b[39;49m\u001b[43mcreate_client\u001b[49m\u001b[43m(\u001b[49m\n\u001b[1;32m    998\u001b[0m \u001b[43m    \u001b[49m\u001b[43mservice_name\u001b[49m\u001b[38;5;241;43m=\u001b[39;49m\u001b[43mservice_name\u001b[49m\u001b[43m,\u001b[49m\n\u001b[1;32m    999\u001b[0m \u001b[43m    \u001b[49m\u001b[43mregion_name\u001b[49m\u001b[38;5;241;43m=\u001b[39;49m\u001b[43mregion_name\u001b[49m\u001b[43m,\u001b[49m\n\u001b[1;32m   1000\u001b[0m \u001b[43m    \u001b[49m\u001b[43mis_secure\u001b[49m\u001b[38;5;241;43m=\u001b[39;49m\u001b[43muse_ssl\u001b[49m\u001b[43m,\u001b[49m\n\u001b[1;32m   1001\u001b[0m \u001b[43m    \u001b[49m\u001b[43mendpoint_url\u001b[49m\u001b[38;5;241;43m=\u001b[39;49m\u001b[43mendpoint_url\u001b[49m\u001b[43m,\u001b[49m\n\u001b[1;32m   1002\u001b[0m \u001b[43m    \u001b[49m\u001b[43mverify\u001b[49m\u001b[38;5;241;43m=\u001b[39;49m\u001b[43mverify\u001b[49m\u001b[43m,\u001b[49m\n\u001b[1;32m   1003\u001b[0m \u001b[43m    \u001b[49m\u001b[43mcredentials\u001b[49m\u001b[38;5;241;43m=\u001b[39;49m\u001b[43mcredentials\u001b[49m\u001b[43m,\u001b[49m\n\u001b[1;32m   1004\u001b[0m \u001b[43m    \u001b[49m\u001b[43mscoped_config\u001b[49m\u001b[38;5;241;43m=\u001b[39;49m\u001b[38;5;28;43mself\u001b[39;49m\u001b[38;5;241;43m.\u001b[39;49m\u001b[43mget_scoped_config\u001b[49m\u001b[43m(\u001b[49m\u001b[43m)\u001b[49m\u001b[43m,\u001b[49m\n\u001b[1;32m   1005\u001b[0m \u001b[43m    \u001b[49m\u001b[43mclient_config\u001b[49m\u001b[38;5;241;43m=\u001b[39;49m\u001b[43mconfig\u001b[49m\u001b[43m,\u001b[49m\n\u001b[1;32m   1006\u001b[0m \u001b[43m    \u001b[49m\u001b[43mapi_version\u001b[49m\u001b[38;5;241;43m=\u001b[39;49m\u001b[43mapi_version\u001b[49m\u001b[43m,\u001b[49m\n\u001b[1;32m   1007\u001b[0m \u001b[43m    \u001b[49m\u001b[43mauth_token\u001b[49m\u001b[38;5;241;43m=\u001b[39;49m\u001b[43mauth_token\u001b[49m\u001b[43m,\u001b[49m\n\u001b[1;32m   1008\u001b[0m \u001b[43m\u001b[49m\u001b[43m)\u001b[49m\n\u001b[1;32m   1009\u001b[0m monitor \u001b[38;5;241m=\u001b[39m \u001b[38;5;28mself\u001b[39m\u001b[38;5;241m.\u001b[39m_get_internal_component(\u001b[38;5;124m'\u001b[39m\u001b[38;5;124mmonitor\u001b[39m\u001b[38;5;124m'\u001b[39m)\n\u001b[1;32m   1010\u001b[0m \u001b[38;5;28;01mif\u001b[39;00m monitor \u001b[38;5;129;01mis\u001b[39;00m \u001b[38;5;129;01mnot\u001b[39;00m \u001b[38;5;28;01mNone\u001b[39;00m:\n",
      "File \u001b[0;32m~/.local/lib/python3.12/site-packages/botocore/client.py:161\u001b[0m, in \u001b[0;36mClientCreator.create_client\u001b[0;34m(self, service_name, region_name, is_secure, endpoint_url, verify, credentials, scoped_config, api_version, client_config, auth_token)\u001b[0m\n\u001b[1;32m    148\u001b[0m region_name, client_config \u001b[38;5;241m=\u001b[39m \u001b[38;5;28mself\u001b[39m\u001b[38;5;241m.\u001b[39m_normalize_fips_region(\n\u001b[1;32m    149\u001b[0m     region_name, client_config\n\u001b[1;32m    150\u001b[0m )\n\u001b[1;32m    151\u001b[0m endpoint_bridge \u001b[38;5;241m=\u001b[39m ClientEndpointBridge(\n\u001b[1;32m    152\u001b[0m     \u001b[38;5;28mself\u001b[39m\u001b[38;5;241m.\u001b[39m_endpoint_resolver,\n\u001b[1;32m    153\u001b[0m     scoped_config,\n\u001b[0;32m   (...)\u001b[0m\n\u001b[1;32m    159\u001b[0m     ),\n\u001b[1;32m    160\u001b[0m )\n\u001b[0;32m--> 161\u001b[0m client_args \u001b[38;5;241m=\u001b[39m \u001b[38;5;28;43mself\u001b[39;49m\u001b[38;5;241;43m.\u001b[39;49m\u001b[43m_get_client_args\u001b[49m\u001b[43m(\u001b[49m\n\u001b[1;32m    162\u001b[0m \u001b[43m    \u001b[49m\u001b[43mservice_model\u001b[49m\u001b[43m,\u001b[49m\n\u001b[1;32m    163\u001b[0m \u001b[43m    \u001b[49m\u001b[43mregion_name\u001b[49m\u001b[43m,\u001b[49m\n\u001b[1;32m    164\u001b[0m \u001b[43m    \u001b[49m\u001b[43mis_secure\u001b[49m\u001b[43m,\u001b[49m\n\u001b[1;32m    165\u001b[0m \u001b[43m    \u001b[49m\u001b[43mendpoint_url\u001b[49m\u001b[43m,\u001b[49m\n\u001b[1;32m    166\u001b[0m \u001b[43m    \u001b[49m\u001b[43mverify\u001b[49m\u001b[43m,\u001b[49m\n\u001b[1;32m    167\u001b[0m \u001b[43m    \u001b[49m\u001b[43mcredentials\u001b[49m\u001b[43m,\u001b[49m\n\u001b[1;32m    168\u001b[0m \u001b[43m    \u001b[49m\u001b[43mscoped_config\u001b[49m\u001b[43m,\u001b[49m\n\u001b[1;32m    169\u001b[0m \u001b[43m    \u001b[49m\u001b[43mclient_config\u001b[49m\u001b[43m,\u001b[49m\n\u001b[1;32m    170\u001b[0m \u001b[43m    \u001b[49m\u001b[43mendpoint_bridge\u001b[49m\u001b[43m,\u001b[49m\n\u001b[1;32m    171\u001b[0m \u001b[43m    \u001b[49m\u001b[43mauth_token\u001b[49m\u001b[43m,\u001b[49m\n\u001b[1;32m    172\u001b[0m \u001b[43m    \u001b[49m\u001b[43mendpoints_ruleset_data\u001b[49m\u001b[43m,\u001b[49m\n\u001b[1;32m    173\u001b[0m \u001b[43m    \u001b[49m\u001b[43mpartition_data\u001b[49m\u001b[43m,\u001b[49m\n\u001b[1;32m    174\u001b[0m \u001b[43m\u001b[49m\u001b[43m)\u001b[49m\n\u001b[1;32m    175\u001b[0m service_client \u001b[38;5;241m=\u001b[39m \u001b[38;5;28mcls\u001b[39m(\u001b[38;5;241m*\u001b[39m\u001b[38;5;241m*\u001b[39mclient_args)\n\u001b[1;32m    176\u001b[0m \u001b[38;5;28mself\u001b[39m\u001b[38;5;241m.\u001b[39m_register_retries(service_client)\n",
      "File \u001b[0;32m~/.local/lib/python3.12/site-packages/botocore/client.py:520\u001b[0m, in \u001b[0;36mClientCreator._get_client_args\u001b[0;34m(self, service_model, region_name, is_secure, endpoint_url, verify, credentials, scoped_config, client_config, endpoint_bridge, auth_token, endpoints_ruleset_data, partition_data)\u001b[0m\n\u001b[1;32m    496\u001b[0m \u001b[38;5;28;01mdef\u001b[39;00m \u001b[38;5;21m_get_client_args\u001b[39m(\n\u001b[1;32m    497\u001b[0m     \u001b[38;5;28mself\u001b[39m,\n\u001b[1;32m    498\u001b[0m     service_model,\n\u001b[0;32m   (...)\u001b[0m\n\u001b[1;32m    509\u001b[0m     partition_data,\n\u001b[1;32m    510\u001b[0m ):\n\u001b[1;32m    511\u001b[0m     args_creator \u001b[38;5;241m=\u001b[39m ClientArgsCreator(\n\u001b[1;32m    512\u001b[0m         \u001b[38;5;28mself\u001b[39m\u001b[38;5;241m.\u001b[39m_event_emitter,\n\u001b[1;32m    513\u001b[0m         \u001b[38;5;28mself\u001b[39m\u001b[38;5;241m.\u001b[39m_user_agent,\n\u001b[0;32m   (...)\u001b[0m\n\u001b[1;32m    518\u001b[0m         user_agent_creator\u001b[38;5;241m=\u001b[39m\u001b[38;5;28mself\u001b[39m\u001b[38;5;241m.\u001b[39m_user_agent_creator,\n\u001b[1;32m    519\u001b[0m     )\n\u001b[0;32m--> 520\u001b[0m     \u001b[38;5;28;01mreturn\u001b[39;00m \u001b[43margs_creator\u001b[49m\u001b[38;5;241;43m.\u001b[39;49m\u001b[43mget_client_args\u001b[49m\u001b[43m(\u001b[49m\n\u001b[1;32m    521\u001b[0m \u001b[43m        \u001b[49m\u001b[43mservice_model\u001b[49m\u001b[43m,\u001b[49m\n\u001b[1;32m    522\u001b[0m \u001b[43m        \u001b[49m\u001b[43mregion_name\u001b[49m\u001b[43m,\u001b[49m\n\u001b[1;32m    523\u001b[0m \u001b[43m        \u001b[49m\u001b[43mis_secure\u001b[49m\u001b[43m,\u001b[49m\n\u001b[1;32m    524\u001b[0m \u001b[43m        \u001b[49m\u001b[43mendpoint_url\u001b[49m\u001b[43m,\u001b[49m\n\u001b[1;32m    525\u001b[0m \u001b[43m        \u001b[49m\u001b[43mverify\u001b[49m\u001b[43m,\u001b[49m\n\u001b[1;32m    526\u001b[0m \u001b[43m        \u001b[49m\u001b[43mcredentials\u001b[49m\u001b[43m,\u001b[49m\n\u001b[1;32m    527\u001b[0m \u001b[43m        \u001b[49m\u001b[43mscoped_config\u001b[49m\u001b[43m,\u001b[49m\n\u001b[1;32m    528\u001b[0m \u001b[43m        \u001b[49m\u001b[43mclient_config\u001b[49m\u001b[43m,\u001b[49m\n\u001b[1;32m    529\u001b[0m \u001b[43m        \u001b[49m\u001b[43mendpoint_bridge\u001b[49m\u001b[43m,\u001b[49m\n\u001b[1;32m    530\u001b[0m \u001b[43m        \u001b[49m\u001b[43mauth_token\u001b[49m\u001b[43m,\u001b[49m\n\u001b[1;32m    531\u001b[0m \u001b[43m        \u001b[49m\u001b[43mendpoints_ruleset_data\u001b[49m\u001b[43m,\u001b[49m\n\u001b[1;32m    532\u001b[0m \u001b[43m        \u001b[49m\u001b[43mpartition_data\u001b[49m\u001b[43m,\u001b[49m\n\u001b[1;32m    533\u001b[0m \u001b[43m    \u001b[49m\u001b[43m)\u001b[49m\n",
      "File \u001b[0;32m~/.local/lib/python3.12/site-packages/botocore/args.py:100\u001b[0m, in \u001b[0;36mClientArgsCreator.get_client_args\u001b[0;34m(self, service_model, region_name, is_secure, endpoint_url, verify, credentials, scoped_config, client_config, endpoint_bridge, auth_token, endpoints_ruleset_data, partition_data)\u001b[0m\n\u001b[1;32m     85\u001b[0m \u001b[38;5;28;01mdef\u001b[39;00m \u001b[38;5;21mget_client_args\u001b[39m(\n\u001b[1;32m     86\u001b[0m     \u001b[38;5;28mself\u001b[39m,\n\u001b[1;32m     87\u001b[0m     service_model,\n\u001b[0;32m   (...)\u001b[0m\n\u001b[1;32m     98\u001b[0m     partition_data\u001b[38;5;241m=\u001b[39m\u001b[38;5;28;01mNone\u001b[39;00m,\n\u001b[1;32m     99\u001b[0m ):\n\u001b[0;32m--> 100\u001b[0m     final_args \u001b[38;5;241m=\u001b[39m \u001b[38;5;28;43mself\u001b[39;49m\u001b[38;5;241;43m.\u001b[39;49m\u001b[43mcompute_client_args\u001b[49m\u001b[43m(\u001b[49m\n\u001b[1;32m    101\u001b[0m \u001b[43m        \u001b[49m\u001b[43mservice_model\u001b[49m\u001b[43m,\u001b[49m\n\u001b[1;32m    102\u001b[0m \u001b[43m        \u001b[49m\u001b[43mclient_config\u001b[49m\u001b[43m,\u001b[49m\n\u001b[1;32m    103\u001b[0m \u001b[43m        \u001b[49m\u001b[43mendpoint_bridge\u001b[49m\u001b[43m,\u001b[49m\n\u001b[1;32m    104\u001b[0m \u001b[43m        \u001b[49m\u001b[43mregion_name\u001b[49m\u001b[43m,\u001b[49m\n\u001b[1;32m    105\u001b[0m \u001b[43m        \u001b[49m\u001b[43mendpoint_url\u001b[49m\u001b[43m,\u001b[49m\n\u001b[1;32m    106\u001b[0m \u001b[43m        \u001b[49m\u001b[43mis_secure\u001b[49m\u001b[43m,\u001b[49m\n\u001b[1;32m    107\u001b[0m \u001b[43m        \u001b[49m\u001b[43mscoped_config\u001b[49m\u001b[43m,\u001b[49m\n\u001b[1;32m    108\u001b[0m \u001b[43m    \u001b[49m\u001b[43m)\u001b[49m\n\u001b[1;32m    110\u001b[0m     service_name \u001b[38;5;241m=\u001b[39m final_args[\u001b[38;5;124m'\u001b[39m\u001b[38;5;124mservice_name\u001b[39m\u001b[38;5;124m'\u001b[39m]  \u001b[38;5;66;03m# noqa\u001b[39;00m\n\u001b[1;32m    111\u001b[0m     parameter_validation \u001b[38;5;241m=\u001b[39m final_args[\u001b[38;5;124m'\u001b[39m\u001b[38;5;124mparameter_validation\u001b[39m\u001b[38;5;124m'\u001b[39m]\n",
      "File \u001b[0;32m~/.local/lib/python3.12/site-packages/botocore/args.py:219\u001b[0m, in \u001b[0;36mClientArgsCreator.compute_client_args\u001b[0;34m(self, service_model, client_config, endpoint_bridge, region_name, endpoint_url, is_secure, scoped_config)\u001b[0m\n\u001b[1;32m    212\u001b[0m s3_config \u001b[38;5;241m=\u001b[39m \u001b[38;5;28mself\u001b[39m\u001b[38;5;241m.\u001b[39mcompute_s3_config(client_config)\n\u001b[1;32m    214\u001b[0m configured_endpoint_url \u001b[38;5;241m=\u001b[39m \u001b[38;5;28mself\u001b[39m\u001b[38;5;241m.\u001b[39m_compute_configured_endpoint_url(\n\u001b[1;32m    215\u001b[0m     client_config\u001b[38;5;241m=\u001b[39mclient_config,\n\u001b[1;32m    216\u001b[0m     endpoint_url\u001b[38;5;241m=\u001b[39mendpoint_url,\n\u001b[1;32m    217\u001b[0m )\n\u001b[0;32m--> 219\u001b[0m endpoint_config \u001b[38;5;241m=\u001b[39m \u001b[38;5;28;43mself\u001b[39;49m\u001b[38;5;241;43m.\u001b[39;49m\u001b[43m_compute_endpoint_config\u001b[49m\u001b[43m(\u001b[49m\n\u001b[1;32m    220\u001b[0m \u001b[43m    \u001b[49m\u001b[43mservice_name\u001b[49m\u001b[38;5;241;43m=\u001b[39;49m\u001b[43mservice_name\u001b[49m\u001b[43m,\u001b[49m\n\u001b[1;32m    221\u001b[0m \u001b[43m    \u001b[49m\u001b[43mregion_name\u001b[49m\u001b[38;5;241;43m=\u001b[39;49m\u001b[43mregion_name\u001b[49m\u001b[43m,\u001b[49m\n\u001b[1;32m    222\u001b[0m \u001b[43m    \u001b[49m\u001b[43mendpoint_url\u001b[49m\u001b[38;5;241;43m=\u001b[39;49m\u001b[43mconfigured_endpoint_url\u001b[49m\u001b[43m,\u001b[49m\n\u001b[1;32m    223\u001b[0m \u001b[43m    \u001b[49m\u001b[43mis_secure\u001b[49m\u001b[38;5;241;43m=\u001b[39;49m\u001b[43mis_secure\u001b[49m\u001b[43m,\u001b[49m\n\u001b[1;32m    224\u001b[0m \u001b[43m    \u001b[49m\u001b[43mendpoint_bridge\u001b[49m\u001b[38;5;241;43m=\u001b[39;49m\u001b[43mendpoint_bridge\u001b[49m\u001b[43m,\u001b[49m\n\u001b[1;32m    225\u001b[0m \u001b[43m    \u001b[49m\u001b[43ms3_config\u001b[49m\u001b[38;5;241;43m=\u001b[39;49m\u001b[43ms3_config\u001b[49m\u001b[43m,\u001b[49m\n\u001b[1;32m    226\u001b[0m \u001b[43m\u001b[49m\u001b[43m)\u001b[49m\n\u001b[1;32m    227\u001b[0m endpoint_variant_tags \u001b[38;5;241m=\u001b[39m endpoint_config[\u001b[38;5;124m'\u001b[39m\u001b[38;5;124mmetadata\u001b[39m\u001b[38;5;124m'\u001b[39m]\u001b[38;5;241m.\u001b[39mget(\u001b[38;5;124m'\u001b[39m\u001b[38;5;124mtags\u001b[39m\u001b[38;5;124m'\u001b[39m, [])\n\u001b[1;32m    229\u001b[0m \u001b[38;5;66;03m# Some third-party libraries expect the final user-agent string in\u001b[39;00m\n\u001b[1;32m    230\u001b[0m \u001b[38;5;66;03m# ``client.meta.config.user_agent``. To maintain backwards\u001b[39;00m\n\u001b[1;32m    231\u001b[0m \u001b[38;5;66;03m# compatibility, the preliminary user-agent string (before any Config\u001b[39;00m\n\u001b[1;32m    232\u001b[0m \u001b[38;5;66;03m# object modifications and without request-specific user-agent\u001b[39;00m\n\u001b[1;32m    233\u001b[0m \u001b[38;5;66;03m# components) is stored in the new Config object's ``user_agent``\u001b[39;00m\n\u001b[1;32m    234\u001b[0m \u001b[38;5;66;03m# property but not used by Botocore itself.\u001b[39;00m\n",
      "File \u001b[0;32m~/.local/lib/python3.12/site-packages/botocore/args.py:369\u001b[0m, in \u001b[0;36mClientArgsCreator._compute_endpoint_config\u001b[0;34m(self, service_name, region_name, endpoint_url, is_secure, endpoint_bridge, s3_config)\u001b[0m\n\u001b[1;32m    367\u001b[0m \u001b[38;5;28;01mif\u001b[39;00m service_name \u001b[38;5;241m==\u001b[39m \u001b[38;5;124m'\u001b[39m\u001b[38;5;124msts\u001b[39m\u001b[38;5;124m'\u001b[39m:\n\u001b[1;32m    368\u001b[0m     \u001b[38;5;28;01mreturn\u001b[39;00m \u001b[38;5;28mself\u001b[39m\u001b[38;5;241m.\u001b[39m_compute_sts_endpoint_config(\u001b[38;5;241m*\u001b[39m\u001b[38;5;241m*\u001b[39mresolve_endpoint_kwargs)\n\u001b[0;32m--> 369\u001b[0m \u001b[38;5;28;01mreturn\u001b[39;00m \u001b[38;5;28;43mself\u001b[39;49m\u001b[38;5;241;43m.\u001b[39;49m\u001b[43m_resolve_endpoint\u001b[49m\u001b[43m(\u001b[49m\u001b[38;5;241;43m*\u001b[39;49m\u001b[38;5;241;43m*\u001b[39;49m\u001b[43mresolve_endpoint_kwargs\u001b[49m\u001b[43m)\u001b[49m\n",
      "File \u001b[0;32m~/.local/lib/python3.12/site-packages/botocore/args.py:474\u001b[0m, in \u001b[0;36mClientArgsCreator._resolve_endpoint\u001b[0;34m(self, service_name, region_name, endpoint_url, is_secure, endpoint_bridge)\u001b[0m\n\u001b[1;32m    466\u001b[0m \u001b[38;5;28;01mdef\u001b[39;00m \u001b[38;5;21m_resolve_endpoint\u001b[39m(\n\u001b[1;32m    467\u001b[0m     \u001b[38;5;28mself\u001b[39m,\n\u001b[1;32m    468\u001b[0m     service_name,\n\u001b[0;32m   (...)\u001b[0m\n\u001b[1;32m    472\u001b[0m     endpoint_bridge,\n\u001b[1;32m    473\u001b[0m ):\n\u001b[0;32m--> 474\u001b[0m     \u001b[38;5;28;01mreturn\u001b[39;00m \u001b[43mendpoint_bridge\u001b[49m\u001b[38;5;241;43m.\u001b[39;49m\u001b[43mresolve\u001b[49m\u001b[43m(\u001b[49m\n\u001b[1;32m    475\u001b[0m \u001b[43m        \u001b[49m\u001b[43mservice_name\u001b[49m\u001b[43m,\u001b[49m\u001b[43m \u001b[49m\u001b[43mregion_name\u001b[49m\u001b[43m,\u001b[49m\u001b[43m \u001b[49m\u001b[43mendpoint_url\u001b[49m\u001b[43m,\u001b[49m\u001b[43m \u001b[49m\u001b[43mis_secure\u001b[49m\n\u001b[1;32m    476\u001b[0m \u001b[43m    \u001b[49m\u001b[43m)\u001b[49m\n",
      "File \u001b[0;32m~/.local/lib/python3.12/site-packages/botocore/client.py:625\u001b[0m, in \u001b[0;36mClientEndpointBridge.resolve\u001b[0;34m(self, service_name, region_name, endpoint_url, is_secure)\u001b[0m\n\u001b[1;32m    619\u001b[0m use_dualstack_endpoint \u001b[38;5;241m=\u001b[39m \u001b[38;5;28mself\u001b[39m\u001b[38;5;241m.\u001b[39m_resolve_use_dualstack_endpoint(\n\u001b[1;32m    620\u001b[0m     service_name\n\u001b[1;32m    621\u001b[0m )\n\u001b[1;32m    622\u001b[0m use_fips_endpoint \u001b[38;5;241m=\u001b[39m \u001b[38;5;28mself\u001b[39m\u001b[38;5;241m.\u001b[39m_resolve_endpoint_variant_config_var(\n\u001b[1;32m    623\u001b[0m     \u001b[38;5;124m'\u001b[39m\u001b[38;5;124muse_fips_endpoint\u001b[39m\u001b[38;5;124m'\u001b[39m\n\u001b[1;32m    624\u001b[0m )\n\u001b[0;32m--> 625\u001b[0m resolved \u001b[38;5;241m=\u001b[39m \u001b[38;5;28;43mself\u001b[39;49m\u001b[38;5;241;43m.\u001b[39;49m\u001b[43mendpoint_resolver\u001b[49m\u001b[38;5;241;43m.\u001b[39;49m\u001b[43mconstruct_endpoint\u001b[49m\u001b[43m(\u001b[49m\n\u001b[1;32m    626\u001b[0m \u001b[43m    \u001b[49m\u001b[43mservice_name\u001b[49m\u001b[43m,\u001b[49m\n\u001b[1;32m    627\u001b[0m \u001b[43m    \u001b[49m\u001b[43mregion_name\u001b[49m\u001b[43m,\u001b[49m\n\u001b[1;32m    628\u001b[0m \u001b[43m    \u001b[49m\u001b[43muse_dualstack_endpoint\u001b[49m\u001b[38;5;241;43m=\u001b[39;49m\u001b[43muse_dualstack_endpoint\u001b[49m\u001b[43m,\u001b[49m\n\u001b[1;32m    629\u001b[0m \u001b[43m    \u001b[49m\u001b[43muse_fips_endpoint\u001b[49m\u001b[38;5;241;43m=\u001b[39;49m\u001b[43muse_fips_endpoint\u001b[49m\u001b[43m,\u001b[49m\n\u001b[1;32m    630\u001b[0m \u001b[43m\u001b[49m\u001b[43m)\u001b[49m\n\u001b[1;32m    632\u001b[0m \u001b[38;5;66;03m# If we can't resolve the region, we'll attempt to get a global\u001b[39;00m\n\u001b[1;32m    633\u001b[0m \u001b[38;5;66;03m# endpoint for non-regionalized services (iam, route53, etc)\u001b[39;00m\n\u001b[1;32m    634\u001b[0m \u001b[38;5;28;01mif\u001b[39;00m \u001b[38;5;129;01mnot\u001b[39;00m resolved:\n\u001b[1;32m    635\u001b[0m     \u001b[38;5;66;03m# TODO: fallback partition_name should be configurable in the\u001b[39;00m\n\u001b[1;32m    636\u001b[0m     \u001b[38;5;66;03m# future for users to define as needed.\u001b[39;00m\n",
      "File \u001b[0;32m~/.local/lib/python3.12/site-packages/botocore/regions.py:229\u001b[0m, in \u001b[0;36mEndpointResolver.construct_endpoint\u001b[0;34m(self, service_name, region_name, partition_name, use_dualstack_endpoint, use_fips_endpoint)\u001b[0m\n\u001b[1;32m    224\u001b[0m \u001b[38;5;28;01mif\u001b[39;00m use_dualstack_endpoint \u001b[38;5;129;01mand\u001b[39;00m (\n\u001b[1;32m    225\u001b[0m     partition[\u001b[38;5;124m'\u001b[39m\u001b[38;5;124mpartition\u001b[39m\u001b[38;5;124m'\u001b[39m]\n\u001b[1;32m    226\u001b[0m     \u001b[38;5;129;01min\u001b[39;00m \u001b[38;5;28mself\u001b[39m\u001b[38;5;241m.\u001b[39m_UNSUPPORTED_DUALSTACK_PARTITIONS\n\u001b[1;32m    227\u001b[0m ):\n\u001b[1;32m    228\u001b[0m     \u001b[38;5;28;01mcontinue\u001b[39;00m\n\u001b[0;32m--> 229\u001b[0m result \u001b[38;5;241m=\u001b[39m \u001b[38;5;28;43mself\u001b[39;49m\u001b[38;5;241;43m.\u001b[39;49m\u001b[43m_endpoint_for_partition\u001b[49m\u001b[43m(\u001b[49m\n\u001b[1;32m    230\u001b[0m \u001b[43m    \u001b[49m\u001b[43mpartition\u001b[49m\u001b[43m,\u001b[49m\n\u001b[1;32m    231\u001b[0m \u001b[43m    \u001b[49m\u001b[43mservice_name\u001b[49m\u001b[43m,\u001b[49m\n\u001b[1;32m    232\u001b[0m \u001b[43m    \u001b[49m\u001b[43mregion_name\u001b[49m\u001b[43m,\u001b[49m\n\u001b[1;32m    233\u001b[0m \u001b[43m    \u001b[49m\u001b[43muse_dualstack_endpoint\u001b[49m\u001b[43m,\u001b[49m\n\u001b[1;32m    234\u001b[0m \u001b[43m    \u001b[49m\u001b[43muse_fips_endpoint\u001b[49m\u001b[43m,\u001b[49m\n\u001b[1;32m    235\u001b[0m \u001b[43m\u001b[49m\u001b[43m)\u001b[49m\n\u001b[1;32m    236\u001b[0m \u001b[38;5;28;01mif\u001b[39;00m result:\n\u001b[1;32m    237\u001b[0m     \u001b[38;5;28;01mreturn\u001b[39;00m result\n",
      "File \u001b[0;32m~/.local/lib/python3.12/site-packages/botocore/regions.py:277\u001b[0m, in \u001b[0;36mEndpointResolver._endpoint_for_partition\u001b[0;34m(self, partition, service_name, region_name, use_dualstack_endpoint, use_fips_endpoint, force_partition)\u001b[0m\n\u001b[1;32m    275\u001b[0m         region_name \u001b[38;5;241m=\u001b[39m service_data[\u001b[38;5;124m'\u001b[39m\u001b[38;5;124mpartitionEndpoint\u001b[39m\u001b[38;5;124m'\u001b[39m]\n\u001b[1;32m    276\u001b[0m     \u001b[38;5;28;01melse\u001b[39;00m:\n\u001b[0;32m--> 277\u001b[0m         \u001b[38;5;28;01mraise\u001b[39;00m NoRegionError()\n\u001b[1;32m    279\u001b[0m resolve_kwargs \u001b[38;5;241m=\u001b[39m {\n\u001b[1;32m    280\u001b[0m     \u001b[38;5;124m'\u001b[39m\u001b[38;5;124mpartition\u001b[39m\u001b[38;5;124m'\u001b[39m: partition,\n\u001b[1;32m    281\u001b[0m     \u001b[38;5;124m'\u001b[39m\u001b[38;5;124mservice_name\u001b[39m\u001b[38;5;124m'\u001b[39m: service_name,\n\u001b[0;32m   (...)\u001b[0m\n\u001b[1;32m    285\u001b[0m     \u001b[38;5;124m'\u001b[39m\u001b[38;5;124muse_fips_endpoint\u001b[39m\u001b[38;5;124m'\u001b[39m: use_fips_endpoint,\n\u001b[1;32m    286\u001b[0m }\n\u001b[1;32m    288\u001b[0m \u001b[38;5;66;03m# Attempt to resolve the exact region for this partition.\u001b[39;00m\n",
      "\u001b[0;31mNoRegionError\u001b[0m: You must specify a region."
     ]
    }
   ],
   "source": [
    "import boto3\n",
    "import json\n",
    "import base64\n",
    "from datetime import datetime\n",
    "from IPython.display import Image\n",
    "from botocore.exceptions import ClientError\n",
    "\n",
    "session = boto3.Session()\n",
    "region = session.region_name\n",
    "\n",
    "#modelId = 'anthropic.claude-3-sonnet-20240229-v1:0'\n",
    "modelId = 'anthropic.claude-3-haiku-20240307-v1:0'\n",
    "\n",
    "print(f'Using modelId: {modelId}')\n",
    "print('Using region: ', region)\n",
    "\n",
    "bedrock_client = boto3.client(service_name = 'bedrock-runtime', region_name = region,)"
   ]
  },
  {
   "cell_type": "code",
   "execution_count": null,
   "metadata": {},
   "outputs": [],
   "source": [
    "def get_completion(messages):\n",
    "    converse_api_params = {\n",
    "        \"modelId\": modelId,\n",
    "        \"messages\": messages,\n",
    "    }\n",
    "    response = bedrock_client.converse(**converse_api_params)\n",
    "    # Extract the generated text content from the response\n",
    "    return response['output']['message']['content'][0]['text']"
   ]
  },
  {
   "cell_type": "code",
   "execution_count": null,
   "metadata": {},
   "outputs": [],
   "source": [
    "# To start, we'll need an image. We will be using the .png image located at cvna_2021_annual_report_image.png.\n",
    "# Start by reading in the image and encoding it as base64.\n",
    "with open(\"./images/reading_charts_graphs/cvna_2021_annual_report_image.png\", \"rb\") as f:\n",
    "    image_file = f.read()\n",
    "\n",
    "# Let's also see the image for ourself\n",
    "Image(filename='./images/reading_charts_graphs/cvna_2021_annual_report_image.png') "
   ]
  },
  {
   "cell_type": "markdown",
   "metadata": {},
   "source": [
    "Let's see how we can pass this image to the model alongside a simple question."
   ]
  },
  {
   "cell_type": "code",
   "execution_count": null,
   "metadata": {},
   "outputs": [],
   "source": [
    "messages = [\n",
    "    {\n",
    "        \"role\": 'user',\n",
    "        \"content\": [\n",
    "            {\"text\": \"What's in this image? Answer in a single sentence.\"},\n",
    "            {\"image\": {\n",
    "                \"format\": 'png',\n",
    "                \"source\": {\"bytes\": image_file }\n",
    "                },\n",
    "            }\n",
    "        ]\n",
    "    }\n",
    "]\n",
    "\n",
    "print(get_completion(messages))"
   ]
  },
  {
   "cell_type": "markdown",
   "metadata": {},
   "source": [
    "That's pretty good! Now let's ask it some more useful questions."
   ]
  },
  {
   "cell_type": "code",
   "execution_count": null,
   "metadata": {
    "tags": []
   },
   "outputs": [],
   "source": [
    "questions = [\n",
    "    \"What was CVNA revenue in 2020?\",\n",
    "    \"How many additional markets has Carvana added since 2014?\",\n",
    "    \"What was 2016 revenue per retail unit sold?\"\n",
    "]\n",
    "\n",
    "for index, question in enumerate(questions):\n",
    "    messages = [\n",
    "        {\n",
    "            \"role\": 'user',\n",
    "            \"content\": [\n",
    "                {\"text\": \"What's in this image? Answer in a single sentence.\"},\n",
    "                {\"image\": {\n",
    "                    \"format\": 'png',\n",
    "                    \"source\": {\"bytes\": image_file }\n",
    "                    },\n",
    "                }\n",
    "            ]\n",
    "        }\n",
    "    ]\n",
    "    \n",
    "    print(f\"\\n----------Question {index+1}----------\")\n",
    "    print(get_completion(messages))"
   ]
  },
  {
   "cell_type": "markdown",
   "metadata": {},
   "source": [
    "As you can see, Claude is capable of answering fairly detailed questions about charts and graphs. However, there are some tips and tricks that will help you get the most out of it.\n",
    "- Sometimes Claude's arithmetic capabilities get in the way. You'll notice that if you sample the third question above it will occasionally output an incorrect final answer because it messes up the arithmetic. Consider providing Claude with a calculator tool to ensure it doesn't make these types of mistakes.\n",
    "- With super complicated charts and graphs, we can ask Claude to \"First describe every data point you see in the image\" as a way to elicit similar improvements to what we seen in traditional Chain of Thought.\n",
    "- Claude occasionally struggles with charts that depend on lots of colors to convey information, such as grouped bar charts with many groups. Asking Claude to first identify the colors in your graph using HEX codes can boost its accuracy."
   ]
  },
  {
   "cell_type": "markdown",
   "metadata": {},
   "source": [
    "## Slide Decks\n",
    "Now that we know Claude is a charts and graphs wizard, it is only logical that we extend it to the true home of charts and graphs - slide decks!\n",
    "\n",
    "Slides represent a critical source of information for many domains, including financial services. While you *can* use packages like PyPDF to extract text from slide decks, their chart/graph heavy nature often makes this a poor choice as models will struggle to access the information they actually need. Vision can be a great replacement as a result. In this section we will go over how to use vision Claude to review slide decks, and how to deal with some common pitfalls of this approach."
   ]
  },
  {
   "cell_type": "markdown",
   "metadata": {},
   "source": [
    "The best way to get a typical slide deck into claude is to download it as a PDF and then convert each pdf page to an image. Here's how you can accomplish this."
   ]
  },
  {
   "cell_type": "code",
   "execution_count": null,
   "metadata": {
    "tags": []
   },
   "outputs": [],
   "source": [
    "#%pip install PyMuPDF"
   ]
  },
  {
   "cell_type": "code",
   "execution_count": null,
   "metadata": {
    "tags": []
   },
   "outputs": [],
   "source": [
    "from PIL import Image\n",
    "import io\n",
    "import fitz\n",
    "\n",
    "def pdf_to_pngs(pdf_path, quality=75, max_size=(1024, 1024)):\n",
    "    \"\"\"\n",
    "    Converts a PDF file to a list of PNG images.\n",
    "\n",
    "    Args:\n",
    "        pdf_path (str): The path to the PDF file.\n",
    "        quality (int, optional): The quality of the output PNG images (default is 75).\n",
    "        max_size (tuple, optional): The maximum size of the output images (default is (1024, 1024)).\n",
    "\n",
    "    Returns:\n",
    "        list: A list of PNG images as bytes.\n",
    "    \"\"\"\n",
    "    # Open the PDF file\n",
    "    doc = fitz.open(pdf_path)\n",
    "    pdf_to_png_images = []\n",
    "\n",
    "    # Iterate through each page of the PDF\n",
    "    for page_num in range(doc.page_count):\n",
    "        # Load the page\n",
    "        page = doc.load_page(page_num)\n",
    "\n",
    "        # Render the page as a PNG image\n",
    "        pix = page.get_pixmap(matrix=fitz.Matrix(300/72, 300/72))\n",
    "\n",
    "        # Save the PNG image\n",
    "        output_path = f\"./images/reading_charts_graphs/slides/page_{page_num+1}.png\"\n",
    "        pix.save(output_path)\n",
    "\n",
    "        # Open the saved image using PIL\n",
    "        image = Image.open(output_path)\n",
    "\n",
    "        # Resize the image if it exceeds the maximum size\n",
    "        if image.size[0] > max_size[0] or image.size[1] > max_size[1]:\n",
    "            image.thumbnail(max_size, Image.Resampling.LANCZOS)\n",
    "\n",
    "        # Convert the PIL image to bytes\n",
    "        image_data = io.BytesIO()\n",
    "        image.save(image_data, format='PNG', optimize=True, quality=quality)\n",
    "        image_data.seek(0)\n",
    "        pdf_to_png_image = image_data.getvalue()\n",
    "\n",
    "        # Append the PNG image bytes to the list\n",
    "        pdf_to_png_images.append(pdf_to_png_image)\n",
    "\n",
    "    # Close the PDF document\n",
    "    doc.close()\n",
    "\n",
    "    return pdf_to_png_images\n",
    "\n",
    "# Specify the path to the PDF file\n",
    "pdf_path = './images/reading_charts_graphs/twilio_q4_2023.pdf'\n",
    "# Call the pdf_to_pngs function to convert the PDF to PNG images\n",
    "pdf_pngs = pdf_to_pngs(pdf_path)"
   ]
  },
  {
   "cell_type": "code",
   "execution_count": null,
   "metadata": {
    "tags": []
   },
   "outputs": [],
   "source": [
    "# Now let's pass the first 20 of these images (in order) to Claude at once and ask it a question about the deck. \n",
    "# Why 20? Currently, the Anthropic API only allows you to pass in a maximum of 20 images.\n",
    "# While this number will likely increase over time, we have some helpful tips for how to manage it later in this recipe.\n",
    "\n",
    "content = [{\"image\": {\"format\": 'png', \"source\": {\"bytes\": pdf_png}}} for pdf_png in pdf_pngs[:20]]\n",
    "\n",
    "question = \"What was Twilio y/y revenue growth for fiscal year 2023?\"\n",
    "#question = \"What was the non-GAAP gross margin?\"\n",
    "\n",
    "# Append the question to our images\n",
    "content.append({\"text\": question})\n",
    "\n",
    "messages = [\n",
    "    {\n",
    "        \"role\": 'user',\n",
    "        \"content\": content\n",
    "    }\n",
    "]\n",
    "\n",
    "print(get_completion(messages))"
   ]
  },
  {
   "cell_type": "markdown",
   "metadata": {},
   "source": [
    "This approach is a great way to get started, and for some use cases offers the best performance. However, there are some limitations.\n",
    "- You can only include up to 20 images (we intend to increase this limit over time)\n",
    "- If you are using slide content as part of RAG, introducing images into your embeddings can cause problems\n",
    "\n",
    "Luckily, we can take advantage of Claude's vision capabilities to get a much higher quality representation of the slide deck **in text form** than normal pdf transciption allows.\n",
    "\n",
    "We find the best way to do this is to ask Claude to sequentially narrate the deck from start to finish, passing it the current slide and its prior narration. Let's see how."
   ]
  },
  {
   "cell_type": "code",
   "execution_count": null,
   "metadata": {
    "tags": []
   },
   "outputs": [],
   "source": [
    "# Define two functions that allow us to craft prompts for narrating our slide deck. We would adjut these prompts based on the nature of the deck, but keep the structure largely the same.\n",
    "def build_previous_slides_prompt(previous_slide_narratives):\n",
    "    prompt = '\\n'.join([f\"<slide_narration id={index+1}>\\n{narrative}\\n</slide_narration>\" for index, narrative in enumerate(previous_slide_narratives)])\n",
    "    return prompt\n",
    "\n",
    "def build_slides_narration_prompt(previous_slide_narratives):\n",
    "    if len(previous_slide_narratives) == 0:\n",
    "        prompt = \"\"\"You are the Twilio CFO, narrating your Q4 2023 earnings presentation.\n",
    "\n",
    "You are currently on slide 1, shown in the image.\n",
    "Please narrate this page from Twilio's Q4 2023 Earnings Presentation as if you were the presenter. Do not talk about any things, especially acronyms, if you are not exactly sure you know what they mean. Do not discuss anything not explicitly seen on this slide as there are more slides to narrate later that will likely cover that material.\n",
    "Do not leave any details un-narrated as some of your viewers are vision-impaired, so if you don't narrate every number they won't know the number.\n",
    "\n",
    "Put your narration in <narration> tags.\"\"\"\n",
    "\n",
    "    else:\n",
    "        prompt = f\"\"\"You are the Twilio CFO, narrating your Q4 2023 earnings presentation. So far, here is your narration from previous slides:\n",
    "<previous_slide_narrations>\n",
    "{build_previous_slides_prompt(previous_slide_narratives)}\n",
    "</previous_slide_narrations>\n",
    "\n",
    "You are currently on slide {len(previous_slide_narratives)+1}, shown in the image.\n",
    "Please narrate this page from Twilio's Q4 2023 Earnings Presentation as if you were the presenter, accounting for what you have already said on previous slides. Do not talk about any things, especially acronyms, if you are not exactly sure you know what they mean. Do not discuss anything not explicitly seen on this slide as there are more slides to narrate later that will likely cover that material.\n",
    "Do not leave any details un-narrated as some of your viewers are vision-impaired, so if you don't narrate every number they won't know the number.\n",
    "\n",
    "Use excruciating detail.\n",
    "\n",
    "Put your narration in <narration> tags.\"\"\"\n",
    "    \n",
    "    return prompt"
   ]
  },
  {
   "cell_type": "code",
   "execution_count": null,
   "metadata": {
    "tags": []
   },
   "outputs": [],
   "source": [
    "# Now we use our functions to narrate the entire deck. Note that this may take a few minutes to run (often up to 10).\n",
    "import re\n",
    "from tqdm import tqdm\n",
    "previous_slide_narratives = []\n",
    "for i, pdf_png in tqdm(enumerate(pdf_pngs)):\n",
    "    messages = [\n",
    "        {\n",
    "            \"role\": 'user',\n",
    "            \"content\": [\n",
    "                {\"text\": build_slides_narration_prompt(previous_slide_narratives)},\n",
    "                {\"image\": {\n",
    "                    \"format\": 'jpeg',\n",
    "                    \"source\": {\"bytes\": pdf_png }\n",
    "                    },\n",
    "                }\n",
    "            ]\n",
    "        }\n",
    "    ]\n",
    "    completion = get_completion(messages)\n",
    "\n",
    "\n",
    "    pattern = r\"<narration>(.*?)</narration>\"\n",
    "    match = re.search(pattern, completion.strip(), re.DOTALL)\n",
    "    if match:\n",
    "        narration = match.group(1)\n",
    "    else:\n",
    "        raise ValueError(\"No narration available.\")\n",
    "    \n",
    "    previous_slide_narratives.append(narration)\n",
    "    # If you want to see the narration we produced, uncomment the below line\n",
    "    # print(narration)\n",
    "\n",
    "slide_narration = build_previous_slides_prompt(previous_slide_narratives)"
   ]
  },
  {
   "cell_type": "markdown",
   "metadata": {},
   "source": [
    "Now that we have a text-based narration (it's far from perfect but it's pretty good), we have the ability to use this deck with any text-only workflow. Including vector search!\n",
    "\n",
    "As a final sanity check, let's ask a few questions of our narration-only setup!"
   ]
  },
  {
   "cell_type": "code",
   "execution_count": null,
   "metadata": {
    "tags": []
   },
   "outputs": [],
   "source": [
    "questions = [\n",
    "    \"What percentage of q4 total revenue was the Segment business line?\",\n",
    "    \"Has the rate of growth of quarterly revenue been increasing or decreasing? Give just an answer.\",\n",
    "    \"What was acquisition revenue for the year ended december 31, 2023 (including negative revenues)?\"\n",
    "]\n",
    "\n",
    "for index, question in enumerate(questions):\n",
    "    prompt = f\"\"\"You are an expert financial analyst analyzing a transcript of Twilio's earnings call.\n",
    "Here is the transcript:\n",
    "<transcript>\n",
    "{slide_narration}\n",
    "</transcript>\n",
    "\n",
    "Please answer the following question:\n",
    "<question>\n",
    "{question}\n",
    "</question>\"\"\"\n",
    "    messages = [\n",
    "        {\n",
    "            \"role\": 'user',\n",
    "            \"content\": [\n",
    "                {\"text\": prompt},\n",
    "            ]\n",
    "        }\n",
    "    ]\n",
    "\n",
    "    print(f\"\\n----------Question {index+1}----------\")\n",
    "    print(get_completion(messages))"
   ]
  },
  {
   "cell_type": "markdown",
   "metadata": {},
   "source": [
    "Looks good! With these techniques at your side, you are ready to start applying models to chart and graph heavy content like slide decks."
   ]
  }
 ],
 "metadata": {
  "kernelspec": {
   "display_name": "Python 3",
   "language": "python",
   "name": "python3"
  },
  "language_info": {
   "codemirror_mode": {
    "name": "ipython",
    "version": 3
   },
   "file_extension": ".py",
   "mimetype": "text/x-python",
   "name": "python",
   "nbconvert_exporter": "python",
   "pygments_lexer": "ipython3",
   "version": "3.12.1"
  }
 },
 "nbformat": 4,
 "nbformat_minor": 4
}
